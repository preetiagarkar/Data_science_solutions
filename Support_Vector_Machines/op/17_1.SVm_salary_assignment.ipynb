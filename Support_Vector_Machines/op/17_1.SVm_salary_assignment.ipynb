{
 "cells": [
  {
   "cell_type": "code",
   "execution_count": 1,
   "id": "116246ed",
   "metadata": {},
   "outputs": [],
   "source": [
    "import pandas as pd\n",
    "import numpy as np\n",
    "import seaborn as sns\n",
    "import matplotlib.pyplot as plt\n",
    "from collections import Counter\n",
    "from sklearn.model_selection import train_test_split\n",
    "from sklearn.metrics import classification_report\n",
    "from sklearn import preprocessing\n",
    "from sklearn.metrics import confusion_matrix,accuracy_score, roc_auc_score, roc_curve, precision_recall_curve\n",
    "from sklearn.model_selection import cross_val_score\n",
    "import warnings\n",
    "warnings.filterwarnings('ignore')\n",
    "from sklearn.model_selection import GridSearchCV, KFold, StratifiedKFold, RandomizedSearchCV\n",
    "from sklearn.preprocessing import StandardScaler,MinMaxScaler\n",
    "from sklearn.decomposition import PCA"
   ]
  },
  {
   "cell_type": "code",
   "execution_count": 2,
   "id": "7831a7a9",
   "metadata": {},
   "outputs": [
    {
     "data": {
      "text/html": [
       "<div>\n",
       "<style scoped>\n",
       "    .dataframe tbody tr th:only-of-type {\n",
       "        vertical-align: middle;\n",
       "    }\n",
       "\n",
       "    .dataframe tbody tr th {\n",
       "        vertical-align: top;\n",
       "    }\n",
       "\n",
       "    .dataframe thead th {\n",
       "        text-align: right;\n",
       "    }\n",
       "</style>\n",
       "<table border=\"1\" class=\"dataframe\">\n",
       "  <thead>\n",
       "    <tr style=\"text-align: right;\">\n",
       "      <th></th>\n",
       "      <th>age</th>\n",
       "      <th>workclass</th>\n",
       "      <th>education</th>\n",
       "      <th>educationno</th>\n",
       "      <th>maritalstatus</th>\n",
       "      <th>occupation</th>\n",
       "      <th>relationship</th>\n",
       "      <th>race</th>\n",
       "      <th>sex</th>\n",
       "      <th>capitalgain</th>\n",
       "      <th>capitalloss</th>\n",
       "      <th>hoursperweek</th>\n",
       "      <th>native</th>\n",
       "      <th>Salary</th>\n",
       "    </tr>\n",
       "  </thead>\n",
       "  <tbody>\n",
       "    <tr>\n",
       "      <th>0</th>\n",
       "      <td>39</td>\n",
       "      <td>State-gov</td>\n",
       "      <td>Bachelors</td>\n",
       "      <td>13</td>\n",
       "      <td>Never-married</td>\n",
       "      <td>Adm-clerical</td>\n",
       "      <td>Not-in-family</td>\n",
       "      <td>White</td>\n",
       "      <td>Male</td>\n",
       "      <td>2174</td>\n",
       "      <td>0</td>\n",
       "      <td>40</td>\n",
       "      <td>United-States</td>\n",
       "      <td>&lt;=50K</td>\n",
       "    </tr>\n",
       "    <tr>\n",
       "      <th>1</th>\n",
       "      <td>50</td>\n",
       "      <td>Self-emp-not-inc</td>\n",
       "      <td>Bachelors</td>\n",
       "      <td>13</td>\n",
       "      <td>Married-civ-spouse</td>\n",
       "      <td>Exec-managerial</td>\n",
       "      <td>Husband</td>\n",
       "      <td>White</td>\n",
       "      <td>Male</td>\n",
       "      <td>0</td>\n",
       "      <td>0</td>\n",
       "      <td>13</td>\n",
       "      <td>United-States</td>\n",
       "      <td>&lt;=50K</td>\n",
       "    </tr>\n",
       "    <tr>\n",
       "      <th>2</th>\n",
       "      <td>38</td>\n",
       "      <td>Private</td>\n",
       "      <td>HS-grad</td>\n",
       "      <td>9</td>\n",
       "      <td>Divorced</td>\n",
       "      <td>Handlers-cleaners</td>\n",
       "      <td>Not-in-family</td>\n",
       "      <td>White</td>\n",
       "      <td>Male</td>\n",
       "      <td>0</td>\n",
       "      <td>0</td>\n",
       "      <td>40</td>\n",
       "      <td>United-States</td>\n",
       "      <td>&lt;=50K</td>\n",
       "    </tr>\n",
       "    <tr>\n",
       "      <th>3</th>\n",
       "      <td>53</td>\n",
       "      <td>Private</td>\n",
       "      <td>11th</td>\n",
       "      <td>7</td>\n",
       "      <td>Married-civ-spouse</td>\n",
       "      <td>Handlers-cleaners</td>\n",
       "      <td>Husband</td>\n",
       "      <td>Black</td>\n",
       "      <td>Male</td>\n",
       "      <td>0</td>\n",
       "      <td>0</td>\n",
       "      <td>40</td>\n",
       "      <td>United-States</td>\n",
       "      <td>&lt;=50K</td>\n",
       "    </tr>\n",
       "    <tr>\n",
       "      <th>4</th>\n",
       "      <td>28</td>\n",
       "      <td>Private</td>\n",
       "      <td>Bachelors</td>\n",
       "      <td>13</td>\n",
       "      <td>Married-civ-spouse</td>\n",
       "      <td>Prof-specialty</td>\n",
       "      <td>Wife</td>\n",
       "      <td>Black</td>\n",
       "      <td>Female</td>\n",
       "      <td>0</td>\n",
       "      <td>0</td>\n",
       "      <td>40</td>\n",
       "      <td>Cuba</td>\n",
       "      <td>&lt;=50K</td>\n",
       "    </tr>\n",
       "  </tbody>\n",
       "</table>\n",
       "</div>"
      ],
      "text/plain": [
       "   age          workclass   education  educationno        maritalstatus  \\\n",
       "0   39          State-gov   Bachelors           13        Never-married   \n",
       "1   50   Self-emp-not-inc   Bachelors           13   Married-civ-spouse   \n",
       "2   38            Private     HS-grad            9             Divorced   \n",
       "3   53            Private        11th            7   Married-civ-spouse   \n",
       "4   28            Private   Bachelors           13   Married-civ-spouse   \n",
       "\n",
       "           occupation    relationship    race      sex  capitalgain  \\\n",
       "0        Adm-clerical   Not-in-family   White     Male         2174   \n",
       "1     Exec-managerial         Husband   White     Male            0   \n",
       "2   Handlers-cleaners   Not-in-family   White     Male            0   \n",
       "3   Handlers-cleaners         Husband   Black     Male            0   \n",
       "4      Prof-specialty            Wife   Black   Female            0   \n",
       "\n",
       "   capitalloss  hoursperweek          native  Salary  \n",
       "0            0            40   United-States   <=50K  \n",
       "1            0            13   United-States   <=50K  \n",
       "2            0            40   United-States   <=50K  \n",
       "3            0            40   United-States   <=50K  \n",
       "4            0            40            Cuba   <=50K  "
      ]
     },
     "execution_count": 2,
     "metadata": {},
     "output_type": "execute_result"
    }
   ],
   "source": [
    "sal=pd.read_csv(\"C:/Users/DELL/Downloads/assignment/Support_Vector_Machines/SalaryData_Train(1).csv\")\n",
    "sal.head()\n"
   ]
  },
  {
   "cell_type": "code",
   "execution_count": 3,
   "id": "298967b0",
   "metadata": {},
   "outputs": [
    {
     "name": "stdout",
     "output_type": "stream",
     "text": [
      "<class 'pandas.core.frame.DataFrame'>\n",
      "RangeIndex: 30161 entries, 0 to 30160\n",
      "Data columns (total 14 columns):\n",
      " #   Column         Non-Null Count  Dtype \n",
      "---  ------         --------------  ----- \n",
      " 0   age            30161 non-null  int64 \n",
      " 1   workclass      30161 non-null  object\n",
      " 2   education      30161 non-null  object\n",
      " 3   educationno    30161 non-null  int64 \n",
      " 4   maritalstatus  30161 non-null  object\n",
      " 5   occupation     30161 non-null  object\n",
      " 6   relationship   30161 non-null  object\n",
      " 7   race           30161 non-null  object\n",
      " 8   sex            30161 non-null  object\n",
      " 9   capitalgain    30161 non-null  int64 \n",
      " 10  capitalloss    30161 non-null  int64 \n",
      " 11  hoursperweek   30161 non-null  int64 \n",
      " 12  native         30161 non-null  object\n",
      " 13  Salary         30161 non-null  object\n",
      "dtypes: int64(5), object(9)\n",
      "memory usage: 3.2+ MB\n"
     ]
    }
   ],
   "source": [
    "sal.info()"
   ]
  },
  {
   "cell_type": "code",
   "execution_count": 4,
   "id": "8a0ca297",
   "metadata": {},
   "outputs": [
    {
     "data": {
      "text/plain": [
       "(30161, 14)"
      ]
     },
     "execution_count": 4,
     "metadata": {},
     "output_type": "execute_result"
    }
   ],
   "source": [
    "sal.shape"
   ]
  },
  {
   "cell_type": "code",
   "execution_count": 5,
   "id": "8d855af2",
   "metadata": {},
   "outputs": [
    {
     "data": {
      "text/plain": [
       "age              0\n",
       "workclass        0\n",
       "education        0\n",
       "educationno      0\n",
       "maritalstatus    0\n",
       "occupation       0\n",
       "relationship     0\n",
       "race             0\n",
       "sex              0\n",
       "capitalgain      0\n",
       "capitalloss      0\n",
       "hoursperweek     0\n",
       "native           0\n",
       "Salary           0\n",
       "dtype: int64"
      ]
     },
     "execution_count": 5,
     "metadata": {},
     "output_type": "execute_result"
    }
   ],
   "source": [
    "sal.isna().sum()"
   ]
  },
  {
   "cell_type": "code",
   "execution_count": 6,
   "id": "6b771794",
   "metadata": {},
   "outputs": [
    {
     "data": {
      "image/png": "[encoded data removed]",
      "text/plain": [
       "<Figure size 500x500 with 1 Axes>"
      ]
     },
     "metadata": {},
     "output_type": "display_data"
    }
   ],
   "source": [
    "plt.figure(figsize = (5,5))\n",
    "plt.pie(sal['Salary'].value_counts(),\n",
    "       labels=sal.Salary.unique(),\n",
    "       autopct= '%.2f%%')\n",
    "plt.legend(loc= 'upper right')      \n",
    "plt.title(\"Class Type Distribution Pie Chart\", fontsize = 12, fontweight = 'bold')\n",
    "plt.show()"
   ]
  },
  {
   "cell_type": "code",
   "execution_count": 7,
   "id": "32411165",
   "metadata": {},
   "outputs": [
    {
     "data": {
      "text/plain": [
       " Private             22285\n",
       " Self-emp-not-inc     2499\n",
       " Local-gov            2067\n",
       " State-gov            1279\n",
       " Self-emp-inc         1074\n",
       " Federal-gov           943\n",
       " Without-pay            14\n",
       "Name: workclass, dtype: int64"
      ]
     },
     "execution_count": 7,
     "metadata": {},
     "output_type": "execute_result"
    }
   ],
   "source": [
    "sal.workclass.value_counts()"
   ]
  },
  {
   "cell_type": "markdown",
   "id": "a738237c",
   "metadata": {},
   "source": [
    "### Assigning Dummy Values"
   ]
  },
  {
   "cell_type": "code",
   "execution_count": 8,
   "id": "a8d2842e",
   "metadata": {},
   "outputs": [],
   "source": [
    "from sklearn import preprocessing\n",
    "le=preprocessing.LabelEncoder()\n",
    "def label_encoding(sal):\n",
    "    \n",
    "    for column_name in sal.columns:\n",
    "        if sal[column_name].dtype == object:\n",
    "            sal[column_name] = le.fit_transform(sal[column_name])\n",
    "        else:\n",
    "            pass"
   ]
  },
  {
   "cell_type": "code",
   "execution_count": 9,
   "id": "8f7e89bd",
   "metadata": {},
   "outputs": [],
   "source": [
    "label_encoding(sal)"
   ]
  },
  {
   "cell_type": "code",
   "execution_count": 10,
   "id": "66e99d53",
   "metadata": {},
   "outputs": [
    {
     "name": "stdout",
     "output_type": "stream",
     "text": [
      "<class 'pandas.core.frame.DataFrame'>\n",
      "RangeIndex: 30161 entries, 0 to 30160\n",
      "Data columns (total 14 columns):\n",
      " #   Column         Non-Null Count  Dtype\n",
      "---  ------         --------------  -----\n",
      " 0   age            30161 non-null  int64\n",
      " 1   workclass      30161 non-null  int32\n",
      " 2   education      30161 non-null  int32\n",
      " 3   educationno    30161 non-null  int64\n",
      " 4   maritalstatus  30161 non-null  int32\n",
      " 5   occupation     30161 non-null  int32\n",
      " 6   relationship   30161 non-null  int32\n",
      " 7   race           30161 non-null  int32\n",
      " 8   sex            30161 non-null  int32\n",
      " 9   capitalgain    30161 non-null  int64\n",
      " 10  capitalloss    30161 non-null  int64\n",
      " 11  hoursperweek   30161 non-null  int64\n",
      " 12  native         30161 non-null  int32\n",
      " 13  Salary         30161 non-null  int32\n",
      "dtypes: int32(9), int64(5)\n",
      "memory usage: 2.2 MB\n"
     ]
    }
   ],
   "source": [
    "sal.info()"
   ]
  },
  {
   "cell_type": "code",
   "execution_count": 11,
   "id": "bb593475",
   "metadata": {},
   "outputs": [
    {
     "data": {
      "text/html": [
       "<div>\n",
       "<style scoped>\n",
       "    .dataframe tbody tr th:only-of-type {\n",
       "        vertical-align: middle;\n",
       "    }\n",
       "\n",
       "    .dataframe tbody tr th {\n",
       "        vertical-align: top;\n",
       "    }\n",
       "\n",
       "    .dataframe thead th {\n",
       "        text-align: right;\n",
       "    }\n",
       "</style>\n",
       "<table border=\"1\" class=\"dataframe\">\n",
       "  <thead>\n",
       "    <tr style=\"text-align: right;\">\n",
       "      <th></th>\n",
       "      <th>age</th>\n",
       "      <th>workclass</th>\n",
       "      <th>education</th>\n",
       "      <th>educationno</th>\n",
       "      <th>maritalstatus</th>\n",
       "      <th>occupation</th>\n",
       "      <th>relationship</th>\n",
       "      <th>race</th>\n",
       "      <th>sex</th>\n",
       "      <th>capitalgain</th>\n",
       "      <th>capitalloss</th>\n",
       "      <th>hoursperweek</th>\n",
       "      <th>native</th>\n",
       "      <th>Salary</th>\n",
       "    </tr>\n",
       "  </thead>\n",
       "  <tbody>\n",
       "    <tr>\n",
       "      <th>count</th>\n",
       "      <td>30161.000000</td>\n",
       "      <td>30161.00000</td>\n",
       "      <td>30161.00000</td>\n",
       "      <td>30161.000000</td>\n",
       "      <td>30161.000000</td>\n",
       "      <td>30161.000000</td>\n",
       "      <td>30161.000000</td>\n",
       "      <td>30161.000000</td>\n",
       "      <td>30161.000000</td>\n",
       "      <td>30161.000000</td>\n",
       "      <td>30161.000000</td>\n",
       "      <td>30161.000000</td>\n",
       "      <td>30161.000000</td>\n",
       "      <td>30161.000000</td>\n",
       "    </tr>\n",
       "    <tr>\n",
       "      <th>mean</th>\n",
       "      <td>38.438115</td>\n",
       "      <td>2.19933</td>\n",
       "      <td>10.33361</td>\n",
       "      <td>10.121316</td>\n",
       "      <td>2.580087</td>\n",
       "      <td>5.959849</td>\n",
       "      <td>1.418322</td>\n",
       "      <td>3.678592</td>\n",
       "      <td>0.675707</td>\n",
       "      <td>1092.044064</td>\n",
       "      <td>88.302311</td>\n",
       "      <td>40.931269</td>\n",
       "      <td>35.413481</td>\n",
       "      <td>0.248931</td>\n",
       "    </tr>\n",
       "    <tr>\n",
       "      <th>std</th>\n",
       "      <td>13.134830</td>\n",
       "      <td>0.95394</td>\n",
       "      <td>3.81226</td>\n",
       "      <td>2.550037</td>\n",
       "      <td>1.498018</td>\n",
       "      <td>4.029633</td>\n",
       "      <td>1.601361</td>\n",
       "      <td>0.834721</td>\n",
       "      <td>0.468118</td>\n",
       "      <td>7406.466611</td>\n",
       "      <td>404.121321</td>\n",
       "      <td>11.980182</td>\n",
       "      <td>5.956430</td>\n",
       "      <td>0.432401</td>\n",
       "    </tr>\n",
       "    <tr>\n",
       "      <th>min</th>\n",
       "      <td>17.000000</td>\n",
       "      <td>0.00000</td>\n",
       "      <td>0.00000</td>\n",
       "      <td>1.000000</td>\n",
       "      <td>0.000000</td>\n",
       "      <td>0.000000</td>\n",
       "      <td>0.000000</td>\n",
       "      <td>0.000000</td>\n",
       "      <td>0.000000</td>\n",
       "      <td>0.000000</td>\n",
       "      <td>0.000000</td>\n",
       "      <td>1.000000</td>\n",
       "      <td>0.000000</td>\n",
       "      <td>0.000000</td>\n",
       "    </tr>\n",
       "    <tr>\n",
       "      <th>25%</th>\n",
       "      <td>28.000000</td>\n",
       "      <td>2.00000</td>\n",
       "      <td>9.00000</td>\n",
       "      <td>9.000000</td>\n",
       "      <td>2.000000</td>\n",
       "      <td>2.000000</td>\n",
       "      <td>0.000000</td>\n",
       "      <td>4.000000</td>\n",
       "      <td>0.000000</td>\n",
       "      <td>0.000000</td>\n",
       "      <td>0.000000</td>\n",
       "      <td>40.000000</td>\n",
       "      <td>37.000000</td>\n",
       "      <td>0.000000</td>\n",
       "    </tr>\n",
       "    <tr>\n",
       "      <th>50%</th>\n",
       "      <td>37.000000</td>\n",
       "      <td>2.00000</td>\n",
       "      <td>11.00000</td>\n",
       "      <td>10.000000</td>\n",
       "      <td>2.000000</td>\n",
       "      <td>6.000000</td>\n",
       "      <td>1.000000</td>\n",
       "      <td>4.000000</td>\n",
       "      <td>1.000000</td>\n",
       "      <td>0.000000</td>\n",
       "      <td>0.000000</td>\n",
       "      <td>40.000000</td>\n",
       "      <td>37.000000</td>\n",
       "      <td>0.000000</td>\n",
       "    </tr>\n",
       "    <tr>\n",
       "      <th>75%</th>\n",
       "      <td>47.000000</td>\n",
       "      <td>2.00000</td>\n",
       "      <td>12.00000</td>\n",
       "      <td>13.000000</td>\n",
       "      <td>4.000000</td>\n",
       "      <td>9.000000</td>\n",
       "      <td>3.000000</td>\n",
       "      <td>4.000000</td>\n",
       "      <td>1.000000</td>\n",
       "      <td>0.000000</td>\n",
       "      <td>0.000000</td>\n",
       "      <td>45.000000</td>\n",
       "      <td>37.000000</td>\n",
       "      <td>0.000000</td>\n",
       "    </tr>\n",
       "    <tr>\n",
       "      <th>max</th>\n",
       "      <td>90.000000</td>\n",
       "      <td>6.00000</td>\n",
       "      <td>15.00000</td>\n",
       "      <td>16.000000</td>\n",
       "      <td>6.000000</td>\n",
       "      <td>13.000000</td>\n",
       "      <td>5.000000</td>\n",
       "      <td>4.000000</td>\n",
       "      <td>1.000000</td>\n",
       "      <td>99999.000000</td>\n",
       "      <td>4356.000000</td>\n",
       "      <td>99.000000</td>\n",
       "      <td>39.000000</td>\n",
       "      <td>1.000000</td>\n",
       "    </tr>\n",
       "  </tbody>\n",
       "</table>\n",
       "</div>"
      ],
      "text/plain": [
       "                age    workclass    education   educationno  maritalstatus  \\\n",
       "count  30161.000000  30161.00000  30161.00000  30161.000000   30161.000000   \n",
       "mean      38.438115      2.19933     10.33361     10.121316       2.580087   \n",
       "std       13.134830      0.95394      3.81226      2.550037       1.498018   \n",
       "min       17.000000      0.00000      0.00000      1.000000       0.000000   \n",
       "25%       28.000000      2.00000      9.00000      9.000000       2.000000   \n",
       "50%       37.000000      2.00000     11.00000     10.000000       2.000000   \n",
       "75%       47.000000      2.00000     12.00000     13.000000       4.000000   \n",
       "max       90.000000      6.00000     15.00000     16.000000       6.000000   \n",
       "\n",
       "         occupation  relationship          race           sex   capitalgain  \\\n",
       "count  30161.000000  30161.000000  30161.000000  30161.000000  30161.000000   \n",
       "mean       5.959849      1.418322      3.678592      0.675707   1092.044064   \n",
       "std        4.029633      1.601361      0.834721      0.468118   7406.466611   \n",
       "min        0.000000      0.000000      0.000000      0.000000      0.000000   \n",
       "25%        2.000000      0.000000      4.000000      0.000000      0.000000   \n",
       "50%        6.000000      1.000000      4.000000      1.000000      0.000000   \n",
       "75%        9.000000      3.000000      4.000000      1.000000      0.000000   \n",
       "max       13.000000      5.000000      4.000000      1.000000  99999.000000   \n",
       "\n",
       "        capitalloss  hoursperweek        native        Salary  \n",
       "count  30161.000000  30161.000000  30161.000000  30161.000000  \n",
       "mean      88.302311     40.931269     35.413481      0.248931  \n",
       "std      404.121321     11.980182      5.956430      0.432401  \n",
       "min        0.000000      1.000000      0.000000      0.000000  \n",
       "25%        0.000000     40.000000     37.000000      0.000000  \n",
       "50%        0.000000     40.000000     37.000000      0.000000  \n",
       "75%        0.000000     45.000000     37.000000      0.000000  \n",
       "max     4356.000000     99.000000     39.000000      1.000000  "
      ]
     },
     "execution_count": 11,
     "metadata": {},
     "output_type": "execute_result"
    }
   ],
   "source": [
    "sal.describe()"
   ]
  },
  {
   "cell_type": "markdown",
   "id": "0be6af40",
   "metadata": {},
   "source": [
    "### Detecting Outliers"
   ]
  },
  {
   "cell_type": "code",
   "execution_count": 12,
   "id": "66427b8c",
   "metadata": {},
   "outputs": [
    {
     "data": {
      "text/plain": [
       "Index(['age', 'workclass', 'education', 'educationno', 'maritalstatus',\n",
       "       'occupation', 'relationship', 'race', 'sex', 'capitalgain',\n",
       "       'capitalloss', 'hoursperweek', 'native', 'Salary'],\n",
       "      dtype='object')"
      ]
     },
     "execution_count": 12,
     "metadata": {},
     "output_type": "execute_result"
    }
   ],
   "source": [
    "numerical_features=sal.describe(include=[\"int64\",\"float64\",\"int32\"]).columns\n",
    "numerical_features"
   ]
  },
  {
   "cell_type": "code",
   "execution_count": 13,
   "id": "3facb8fa",
   "metadata": {},
   "outputs": [
    {
     "name": "stdout",
     "output_type": "stream",
     "text": [
      "The dataset contains 3507 observations with more than 2 outliers\n",
      "[206, 301, 845, 901, 1796, 2376, 2460, 2526, 2669, 3247, 3468, 4323, 4357, 4921, 4953, 5509, 5542, 5675, 5713, 5730, 6066, 7597, 8132, 8251, 8287, 8995, 9147, 9749, 10387, 11718, 12219, 12302, 12621, 12679, 12895, 12922, 13113, 13621, 13661, 13784, 13802, 13989, 14721, 15095, 15448, 15649, 15749, 15768, 16318, 16718, 16819, 17355, 17654, 17771, 18067, 18086, 18249, 18373, 18403, 18412, 18850, 18924, 19272, 19371, 19544, 19919, 20160, 20830, 21022, 21639, 21736, 22282, 22613, 23518, 24318, 24934, 25228, 25485, 25560, 25758, 26114, 26141, 26380, 26620, 27011, 27424, 29469, 29508, 29982, 30071, 11, 32, 42, 49, 66, 88, 97, 103, 108, 125, 145, 167, 175, 183, 193, 221, 232, 235, 245, 251, 260, 264, 287, 290, 318, 327, 380, 388, 404, 418, 477, 510, 519, 547, 581, 588, 589, 604, 608, 618, 630, 690, 703, 737, 748, 803, 804, 822, 839, 844, 872, 880, 890, 919, 921, 930, 949, 951, 966, 968, 971, 973, 988, 1010, 1012, 1014, 1015, 1017, 1023, 1047, 1059, 1085, 1103, 1112, 1117, 1142, 1145, 1149, 1178, 1182, 1186, 1195, 1237, 1239, 1243, 1274, 1295, 1298, 1299, 1309, 1322, 1325, 1338, 1339, 1361, 1363, 1372, 1374, 1377, 1379, 1382, 1389, 1392, 1397, 1402, 1486, 1487, 1503, 1508, 1510, 1523, 1529, 1555, 1594, 1612, 1614, 1639, 1657, 1662, 1678, 1697, 1700, 1712, 1714, 1730, 1735, 1762, 1783, 1789, 1793, 1814, 1822, 1823, 1828, 1871, 1882, 1884, 1894, 1900, 1909, 1935, 1956, 1958, 1984, 1985, 2005, 2007, 2031, 2050, 2057, 2060, 2069, 2079, 2136, 2137, 2146, 2148, 2157, 2163, 2178, 2192, 2197, 2231, 2272, 2276, 2280, 2283, 2300, 2304, 2315, 2323, 2350, 2360, 2364, 2407, 2408, 2412, 2414, 2424, 2437, 2441, 2456, 2463, 2482, 2491, 2494, 2498, 2524, 2528, 2552, 2564, 2591, 2600, 2601, 2609, 2611, 2612, 2623, 2635, 2638, 2661, 2664, 2692, 2702, 2703, 2716, 2742, 2750, 2751, 2767, 2780, 2790, 2791, 2792, 2800, 2801, 2808, 2834, 2837, 2840, 2848, 2853, 2895, 2920, 2925, 2943, 2945, 2957, 2961, 2962, 3003, 3010, 3044, 3068, 3092, 3099, 3139, 3168, 3179, 3184, 3210, 3234, 3253, 3265, 3270, 3281, 3284, 3285, 3289, 3294, 3304, 3314, 3315, 3352, 3364, 3365, 3370, 3407, 3430, 3449, 3453, 3466, 3477, 3502, 3524, 3526, 3547, 3567, 3587, 3617, 3653, 3693, 3719, 3730, 3739, 3757, 3771, 3786, 3797, 3810, 3824, 3883, 3890, 3903, 3925, 3975, 3980, 3991, 4010, 4015, 4017, 4025, 4026, 4035, 4040, 4063, 4069, 4084, 4104, 4117, 4121, 4144, 4149, 4153, 4156, 4169, 4177, 4212, 4214, 4248, 4250, 4295, 4307, 4319, 4326, 4343, 4365, 4397, 4399, 4428, 4452, 4484, 4520, 4543, 4550, 4566, 4580, 4587, 4592, 4606, 4610, 4612, 4632, 4643, 4653, 4654, 4662, 4665, 4673, 4675, 4700, 4714, 4716, 4731, 4741, 4742, 4744, 4767, 4771, 4785, 4793, 4802, 4848, 4853, 4865, 4871, 4919, 4941, 4945, 4948, 4955, 4984, 5024, 5070, 5072, 5076, 5077, 5078, 5085, 5122, 5124, 5127, 5136, 5175, 5223, 5230, 5235, 5239, 5272, 5289, 5314, 5318, 5320, 5344, 5365, 5376, 5390, 5391, 5398, 5424, 5476, 5477, 5479, 5489, 5527, 5529, 5548, 5551, 5569, 5570, 5575, 5586, 5605, 5606, 5624, 5625, 5628, 5645, 5649, 5652, 5672, 5684, 5692, 5707, 5712, 5716, 5742, 5764, 5784, 5790, 5792, 5799, 5836, 5841, 5850, 5862, 5864, 5866, 5870, 5871, 5878, 5879, 5880, 5937, 5949, 5966, 5969, 5976, 5977, 5995, 6002, 6006, 6022, 6037, 6046, 6049, 6058, 6070, 6080, 6096, 6100, 6112, 6114, 6120, 6121, 6131, 6134, 6136, 6137, 6178, 6186, 6210, 6218, 6234, 6266, 6268, 6311, 6333, 6356, 6369, 6385, 6387, 6397, 6407, 6412, 6440, 6446, 6448, 6473, 6484, 6493, 6497, 6506, 6509, 6529, 6531, 6536, 6584, 6627, 6635, 6636, 6647, 6667, 6690, 6704, 6706, 6707, 6716, 6720, 6721, 6726, 6741, 6749, 6764, 6766, 6772, 6779, 6795, 6799, 6804, 6825, 6827, 6836, 6841, 6881, 6882, 6915, 6918, 6919, 6921, 6925, 6943, 6960, 6966, 6970, 7008, 7017, 7023, 7033, 7049, 7051, 7065, 7076, 7085, 7092, 7099, 7103, 7119, 7121, 7139, 7168, 7174, 7197, 7204, 7224, 7244, 7256, 7260, 7265, 7267, 7282, 7285, 7291, 7292, 7356, 7361, 7378, 7381, 7415, 7426, 7431, 7439, 7447, 7469, 7486, 7492, 7530, 7536, 7592, 7607, 7668, 7680, 7708, 7723, 7730, 7737, 7740, 7742, 7773, 7822, 7834, 7851, 7853, 7868, 7872, 7875, 7882, 7883, 7892, 7921, 7949, 7951, 7956, 7971, 7988, 7993, 8003, 8010, 8018, 8033, 8044, 8045, 8055, 8058, 8071, 8075, 8084, 8150, 8154, 8155, 8159, 8161, 8194, 8205, 8209, 8220, 8237, 8270, 8281, 8293, 8294, 8311, 8324, 8331, 8369, 8376, 8379, 8386, 8414, 8419, 8434, 8437, 8448, 8466, 8502, 8507, 8509, 8510, 8520, 8530, 8540, 8558, 8688, 8735, 8744, 8749, 8750, 8774, 8776, 8785, 8791, 8799, 8808, 8822, 8826, 8835, 8850, 8855, 8856, 8862, 8866, 8888, 8923, 8935, 8936, 8939, 8941, 8951, 8952, 8965, 8978, 8990, 9002, 9012, 9013, 9020, 9038, 9075, 9076, 9083, 9091, 9097, 9101, 9102, 9111, 9113, 9124, 9135, 9168, 9169, 9185, 9197, 9198, 9201, 9218, 9247, 9280, 9281, 9292, 9327, 9328, 9346, 9353, 9372, 9379, 9402, 9406, 9410, 9413, 9450, 9489, 9490, 9505, 9507, 9538, 9547, 9555, 9561, 9564, 9571, 9580, 9601, 9623, 9642, 9652, 9654, 9659, 9667, 9687, 9689, 9703, 9704, 9770, 9781, 9789, 9809, 9815, 9816, 9827, 9829, 9857, 9880, 9916, 9955, 9956, 9980, 9995, 10037, 10041, 10065, 10080, 10083, 10093, 10125, 10126, 10134, 10153, 10154, 10159, 10176, 10191, 10206, 10210, 10224, 10232, 10238, 10240, 10276, 10288, 10298, 10346, 10349, 10354, 10363, 10377, 10380, 10394, 10433, 10436, 10444, 10458, 10464, 10468, 10477, 10483, 10491, 10493, 10500, 10502, 10530, 10607, 10622, 10655, 10676, 10683, 10711, 10714, 10733, 10762, 10799, 10805, 10811, 10819, 10820, 10832, 10853, 10863, 10864, 10884, 10887, 10900, 10916, 10920, 10928, 10938, 10939, 10949, 10953, 10990, 10996, 11016, 11020, 11042, 11051, 11054, 11074, 11096, 11101, 11141, 11150, 11158, 11219, 11227, 11249, 11256, 11257, 11274, 11298, 11302, 11355, 11374, 11388, 11396, 11400, 11408, 11424, 11430, 11444, 11447, 11451, 11460, 11476, 11484, 11487, 11498, 11508, 11512, 11513, 11539, 11564, 11566, 11583, 11584, 11591, 11618, 11630, 11639, 11647, 11648, 11654, 11673, 11677, 11695, 11714, 11740, 11750, 11761, 11768, 11824, 11830, 11831, 11876, 11898, 11914, 11943, 11945, 11978, 11996, 12016, 12043, 12059, 12126, 12144, 12146, 12150, 12182, 12196, 12200, 12216, 12222, 12280, 12295, 12374, 12385, 12462, 12465, 12477, 12480, 12482, 12522, 12539, 12572, 12577, 12588, 12596, 12605, 12624, 12631, 12639, 12648, 12659, 12677, 12715, 12733, 12756, 12765, 12774, 12835, 12858, 12862, 12874, 12884, 12888, 12899, 12919, 12925, 12928, 12946, 12964, 12968, 12979, 12985, 13004, 13042, 13053, 13084, 13133, 13145, 13169, 13171, 13184, 13185, 13186, 13204, 13214, 13218, 13222, 13228, 13229, 13272, 13287, 13291, 13307, 13318, 13320, 13330, 13332, 13336, 13353, 13370, 13377, 13406, 13415, 13440, 13462, 13465, 13470, 13474, 13477, 13479, 13482, 13495, 13501, 13503, 13512, 13540, 13554, 13561, 13565, 13571, 13574, 13614, 13638, 13640, 13646, 13662, 13683, 13698, 13718, 13719, 13734, 13740, 13742, 13765, 13794, 13822, 13825, 13844, 13871, 13884, 13885, 13900, 13926, 13933, 13961, 13962, 13964, 13972, 13987, 13988, 14036, 14048, 14059, 14103, 14116, 14154, 14186, 14205, 14220, 14239, 14246, 14254, 14286, 14289, 14293, 14316, 14331, 14397, 14414, 14416, 14417, 14422, 14431, 14443, 14446, 14464, 14505, 14509, 14513, 14526, 14545, 14547, 14549, 14566, 14570, 14574, 14575, 14579, 14582, 14597, 14599, 14611, 14617, 14624, 14638, 14642, 14646, 14665, 14679, 14680, 14688, 14731, 14732, 14733, 14795, 14821, 14845, 14890, 14897, 14907, 14930, 14932, 14948, 14979, 15000, 15021, 15063, 15123, 15153, 15160, 15178, 15182, 15187, 15206, 15211, 15243, 15249, 15251, 15255, 15271, 15318, 15331, 15343, 15350, 15361, 15366, 15369, 15373, 15375, 15392, 15393, 15398, 15417, 15421, 15423, 15456, 15465, 15471, 15482, 15504, 15546, 15554, 15558, 15571, 15593, 15651, 15656, 15671, 15685, 15717, 15741, 15746, 15760, 15790, 15793, 15852, 15869, 15898, 15906, 15907, 15984, 15989, 15994, 15999, 16001, 16014, 16041, 16070, 16074, 16093, 16100, 16125, 16134, 16145, 16154, 16155, 16157, 16159, 16214, 16216, 16237, 16249, 16250, 16255, 16259, 16320, 16321, 16325, 16342, 16345, 16368, 16377, 16378, 16381, 16388, 16395, 16403, 16430, 16432, 16452, 16463, 16482, 16498, 16514, 16525, 16532, 16535, 16545, 16568, 16569, 16573, 16582, 16642, 16669, 16689, 16691, 16693, 16698, 16725, 16743, 16747, 16771, 16774, 16776, 16804, 16810, 16824, 16829, 16840, 16871, 16888, 16909, 16912, 16918, 16978, 16984, 16993, 17020, 17022, 17049, 17061, 17072, 17081, 17084, 17100, 17107, 17108, 17129, 17139, 17143, 17150, 17165, 17173, 17177, 17178, 17186, 17199, 17207, 17214, 17227, 17230, 17237, 17246, 17267, 17271, 17302, 17307, 17309, 17313, 17315, 17319, 17332, 17338, 17340, 17368, 17376, 17400, 17410, 17434, 17437, 17439, 17442, 17464, 17512, 17514, 17523, 17534, 17555, 17564, 17570, 17575, 17601, 17609, 17611, 17622, 17627, 17633, 17638, 17689, 17716, 17725, 17745, 17777, 17791, 17819, 17846, 17861, 17871, 17888, 17907, 17910, 17917, 17933, 17936, 17944, 17947, 17973, 18021, 18027, 18040, 18079, 18097, 18102, 18109, 18113, 18124, 18126, 18142, 18143, 18150, 18201, 18227, 18228, 18251, 18252, 18255, 18262, 18268, 18273, 18282, 18283, 18289, 18299, 18301, 18305, 18322, 18338, 18340, 18343, 18353, 18359, 18364, 18408, 18415, 18434, 18440, 18441, 18465, 18471, 18485, 18526, 18533, 18549, 18599, 18615, 18617, 18643, 18655, 18668, 18675, 18710, 18720, 18729, 18733, 18757, 18764, 18770, 18789, 18796, 18808, 18815, 18819, 18861, 18865, 18873, 18879, 18881, 18898, 18920, 18937, 18951, 18953, 18957, 18959, 18988, 18989, 19001, 19007, 19010, 19029, 19039, 19044, 19047, 19083, 19100, 19116, 19135, 19142, 19176, 19188, 19200, 19275, 19285, 19289, 19292, 19315, 19318, 19342, 19346, 19352, 19355, 19362, 19396, 19438, 19448, 19452, 19453, 19466, 19475, 19513, 19522, 19526, 19538, 19557, 19592, 19621, 19624, 19639, 19646, 19655, 19664, 19665, 19688, 19716, 19718, 19754, 19772, 19778, 19784, 19789, 19825, 19830, 19837, 19841, 19850, 19860, 19865, 19875, 19876, 19888, 19894, 19896, 19928, 19940, 19951, 19975, 19987, 20005, 20032, 20053, 20057, 20062, 20090, 20152, 20176, 20191, 20209, 20220, 20244, 20249, 20263, 20270, 20281, 20292, 20297, 20305, 20334, 20375, 20383, 20398, 20408, 20419, 20420, 20424, 20462, 20499, 20557, 20565, 20571, 20576, 20578, 20585, 20594, 20612, 20617, 20638, 20644, 20646, 20651, 20655, 20657, 20669, 20671, 20675, 20676, 20690, 20694, 20698, 20703, 20727, 20732, 20743, 20751, 20769, 20770, 20773, 20782, 20791, 20797, 20808, 20812, 20850, 20888, 20899, 20913, 20915, 20928, 20938, 21003, 21006, 21009, 21044, 21045, 21054, 21058, 21066, 21071, 21083, 21105, 21115, 21120, 21153, 21168, 21180, 21189, 21240, 21242, 21248, 21260, 21265, 21272, 21274, 21285, 21286, 21317, 21319, 21322, 21323, 21332, 21365, 21390, 21413, 21423, 21427, 21435, 21451, 21460, 21478, 21496, 21500, 21544, 21550, 21561, 21577, 21583, 21587, 21604, 21609, 21630, 21631, 21642, 21651, 21653, 21664, 21692, 21696, 21743, 21749, 21785, 21793, 21833, 21835, 21839, 21858, 21866, 21896, 21906, 21937, 21942, 21952, 21971, 21998, 22001, 22029, 22045, 22048, 22058, 22069, 22086, 22091, 22104, 22116, 22121, 22128, 22143, 22144, 22149, 22150, 22181, 22186, 22234, 22236, 22240, 22246, 22248, 22257, 22264, 22268, 22303, 22323, 22335, 22364, 22368, 22390, 22394, 22410, 22429, 22430, 22437, 22440, 22447, 22450, 22456, 22457, 22488, 22494, 22497, 22502, 22512, 22538, 22540, 22546, 22547, 22549, 22550, 22581, 22598, 22656, 22657, 22693, 22695, 22697, 22721, 22733, 22734, 22761, 22784, 22791, 22802, 22805, 22818, 22829, 22835, 22867, 22874, 22884, 22899, 22936, 22962, 22978, 22986, 22987, 23022, 23029, 23107, 23114, 23152, 23154, 23221, 23234, 23245, 23249, 23252, 23261, 23276, 23327, 23364, 23382, 23407, 23409, 23420, 23421, 23433, 23435, 23440, 23448, 23456, 23475, 23489, 23498, 23502, 23507, 23508, 23521, 23538, 23539, 23547, 23551, 23571, 23596, 23611, 23653, 23688, 23691, 23714, 23716, 23720, 23725, 23730, 23741, 23750, 23753, 23776, 23779, 23788, 23795, 23820, 23830, 23837, 23851, 23855, 23862, 23870, 23876, 23908, 23909, 23934, 23938, 23939, 23950, 23951, 23955, 23959, 23962, 23983, 24005, 24008, 24010, 24023, 24040, 24060, 24067, 24078, 24087, 24106, 24123, 24162, 24170, 24177, 24187, 24196, 24231, 24232, 24253, 24262, 24270, 24284, 24319, 24342, 24350, 24370, 24392, 24396, 24413, 24416, 24455, 24468, 24474, 24500, 24513, 24520, 24532, 24533, 24552, 24576, 24591, 24595, 24600, 24608, 24631, 24658, 24663, 24670, 24679, 24682, 24687, 24690, 24697, 24704, 24764, 24793, 24795, 24803, 24817, 24831, 24854, 24860, 24884, 24888, 24895, 24896, 24900, 24915, 24919, 24920, 24923, 24941, 24950, 24963, 24965, 24971, 24994, 25008, 25012, 25025, 25031, 25035, 25047, 25058, 25060, 25066, 25068, 25083, 25090, 25094, 25098, 25116, 25155, 25166, 25186, 25217, 25226, 25229, 25243, 25248, 25275, 25288, 25298, 25301, 25311, 25344, 25351, 25354, 25359, 25361, 25365, 25421, 25454, 25478, 25479, 25530, 25578, 25581, 25608, 25610, 25616, 25618, 25635, 25662, 25735, 25807, 25815, 25827, 25862, 25884, 25894, 25924, 25934, 26011, 26035, 26042, 26051, 26069, 26091, 26093, 26100, 26112, 26135, 26147, 26149, 26155, 26164, 26174, 26177, 26179, 26187, 26192, 26195, 26202, 26203, 26205, 26222, 26229, 26245, 26251, 26262, 26271, 26272, 26286, 26312, 26330, 26363, 26373, 26374, 26388, 26395, 26404, 26430, 26501, 26516, 26551, 26554, 26555, 26578, 26579, 26592, 26606, 26616, 26639, 26640, 26646, 26648, 26658, 26660, 26666, 26670, 26681, 26687, 26693, 26695, 26701, 26707, 26764, 26776, 26788, 26797, 26799, 26801, 26813, 26832, 26857, 26867, 26873, 26883, 26888, 26893, 26894, 26902, 26912, 26929, 26988, 27002, 27021, 27036, 27046, 27068, 27082, 27095, 27125, 27130, 27136, 27188, 27193, 27201, 27206, 27210, 27297, 27319, 27359, 27382, 27387, 27393, 27405, 27407, 27437, 27438, 27455, 27464, 27508, 27513, 27524, 27539, 27540, 27544, 27563, 27565, 27569, 27570, 27573, 27597, 27639, 27646, 27664, 27682, 27715, 27724, 27775, 27780, 27792, 27809, 27810, 27816, 27844, 27859, 27866, 27867, 27873, 27886, 27890, 27906, 27910, 27913, 27918, 27955, 27959, 27973, 27982, 28000, 28020, 28030, 28032, 28040, 28045, 28066, 28098, 28105, 28112, 28115, 28124, 28138, 28154, 28166, 28174, 28178, 28198, 28202, 28237, 28243, 28249, 28263, 28265, 28274, 28288, 28292, 28300, 28303, 28326, 28373, 28420, 28424, 28437, 28467, 28491, 28507, 28510, 28515, 28520, 28524, 28525, 28544, 28552, 28559, 28564, 28597, 28598, 28603, 28649, 28698, 28707, 28711, 28821, 28823, 28827, 28861, 28862, 28863, 28914, 28916, 28922, 28926, 28936, 28962, 28972, 28998, 29009, 29013, 29028, 29032, 29062, 29066, 29068, 29095, 29096, 29111, 29119, 29124, 29144, 29174, 29180, 29193, 29195, 29221, 29228, 29248, 29263, 29265, 29304, 29322, 29332, 29344, 29345, 29352, 29362, 29409, 29411, 29452, 29454, 29455, 29465, 29477, 29480, 29485, 29504, 29521, 29529, 29532, 29543, 29553, 29562, 29585, 29618, 29631, 29635, 29636, 29641, 29645, 29655, 29669, 29679, 29681, 29707, 29754, 29761, 29769, 29770, 29778, 29797, 29803, 29811, 29827, 29831, 29832, 29840, 29847, 29856, 29882, 29890, 29895, 29910, 29957, 29962, 29985, 29986, 30015, 30041, 30051, 30053, 30068, 30074, 30121, 30124, 30145, 30148, 30160, 213, 386, 391, 487, 493, 541, 571, 650, 688, 711, 805, 855, 859, 1049, 1244, 1308, 1357, 1364, 1411, 1495, 1499, 1553, 1760, 1890, 1993, 2013, 2086, 2368, 2371, 2392, 2445, 2553, 2569, 2585, 2625, 2796, 2881, 2930, 3015, 3086, 3163, 3209, 3307, 3433, 3489, 3521, 3562, 3608, 3618, 3944, 4095, 4111, 4173, 4216, 4242, 4303, 4321, 4467, 4667, 4720, 4760, 4822, 5052, 5195, 5225, 5259, 5266, 5309, 5328, 5352, 5359, 5392, 5470, 5482, 5486, 5514, 5877, 5909, 5922, 5951, 5959, 6021, 6054, 6059, 6095, 6185, 6188, 6238, 6334, 6421, 6451, 6527, 6730, 6748, 6769, 6860, 6942, 6997, 7025, 7060, 7074, 7134, 7143, 7155, 7156, 7157, 7210, 7487, 7513, 7564, 7570, 7643, 7664, 7842, 7864, 7972, 7973, 8086, 8208, 8307, 8328, 8545, 8583, 8721, 8842, 8921, 8940, 9016, 9094, 9098, 9103, 9230, 9242, 9261, 9394, 9485, 9511, 9562, 9618, 9660, 9673, 9762, 9803, 9903, 9941, 9965, 10014, 10015, 10199, 10225, 10247, 10438, 10442, 10517, 10584, 10636, 10693, 10710, 10737, 10756, 10836, 10974, 11000, 11045, 11081, 11119, 11319, 11346, 11488, 11490, 11672, 11827, 11844, 11908, 11944, 11947, 12078, 12105, 12140, 12160, 12237, 12246, 12294, 12334, 12339, 12534, 12601, 12603, 12666, 12689, 12724, 12739, 12796, 12921, 12935, 13044, 13047, 13131, 13176, 13210, 13224, 13248, 13271, 13405, 13431, 13628, 13777, 13787, 13792, 13807, 13902, 13925, 13954, 14000, 14011, 14019, 14128, 14386, 14403, 14429, 14542, 14670, 14672, 14893, 14905, 14936, 15145, 15155, 15234, 15273, 15283, 15308, 15433, 15476, 15516, 15518, 15597, 15644, 15679, 15704, 15737, 15938, 16164, 16193, 16272, 16277, 16336, 16379, 16424, 16449, 16487, 16554, 16559, 16660, 16792, 16965, 16972, 16977, 17000, 17098, 17111, 17115, 17181, 17232, 17244, 17280, 17326, 17384, 17478, 17501, 17522, 17529, 17532, 17542, 17582, 17586, 17655, 17742, 17778, 17809, 17832, 17864, 17988, 18042, 18068, 18082, 18203, 18463, 18554, 18660, 18692, 18810, 18940, 19006, 19008, 19062, 19085, 19189, 19294, 19503, 19523, 19550, 19556, 19568, 19739, 19757, 19948, 20042, 20175, 20195, 20378, 20662, 20700, 20737, 20776, 20779, 20781, 20796, 20835, 20845, 20858, 21217, 21264, 21429, 21476, 21578, 21769, 21770, 21784, 21900, 21925, 22004, 22073, 22157, 22173, 22235, 22241, 22278, 22441, 22509, 22519, 22639, 22793, 22859, 22934, 22970, 22972, 23035, 23078, 23172, 23270, 23309, 23336, 23386, 23398, 23474, 23486, 23671, 23804, 23871, 23971, 23995, 24013, 24165, 24175, 24352, 24390, 24434, 24488, 24550, 24812, 24828, 24914, 25018, 25087, 25199, 25328, 25378, 25420, 25468, 25476, 25492, 25498, 25514, 25528, 25632, 25658, 25693, 25724, 25782, 25806, 25849, 25956, 25962, 26004, 26077, 26106, 26110, 26151, 26169, 26304, 26358, 26359, 26418, 26504, 26594, 26664, 26673, 26795, 26996, 27141, 27176, 27226, 27255, 27260, 27281, 27294, 27406, 27412, 27510, 27685, 27742, 27785, 27871, 27899, 28027, 28082, 28104, 28140, 28251, 28264, 28344, 28374, 28505, 28541, 28574, 28589, 28657, 28665, 28808, 28854, 28950, 29073, 29167, 29209, 29517, 29519, 29524, 29600, 29685, 29784, 29809, 29888, 29927, 30018, 30039, 30107, 30115, 2648, 5918, 7283, 10294, 15276, 18941, 19802, 22405, 23378, 24650, 26314, 29677, 29974, 30045, 6, 10, 191, 200, 289, 314, 375, 402, 601, 678, 722, 736, 892, 1007, 1218, 1256, 1301, 1334, 1557, 1576, 1641, 1819, 1905, 1929, 2105, 2107, 2155, 2245, 2377, 2775, 2815, 2887, 3107, 3193, 3268, 3310, 3357, 3405, 3412, 3439, 3511, 3657, 4134, 4158, 4193, 4194, 4236, 4254, 4352, 4386, 4441, 4451, 4489, 4505, 4554, 4943, 4982, 5098, 5104, 5294, 5332, 5490, 5539, 5545, 5550, 5629, 5637, 5702, 5711, 5724, 5768, 5814, 5875, 5907, 6073, 6106, 6128, 6144, 6419, 6643, 6739, 6917, 6946, 7080, 7318, 7412, 7479, 7491, 7516, 7841, 7986, 8014, 8024, 8196, 8269, 8277, 8306, 8326, 8327, 8452, 8538, 8912, 9000, 9037, 9066, 9118, 9273, 9340, 9433, 9443, 9455, 9516, 9560, 9739, 9790, 9859, 9911, 9923, 9985, 10132, 10270, 10334, 10409, 10427, 10434, 10448, 10459, 10522, 10526, 10531, 10597, 10612, 10647, 10670, 10705, 10708, 10826, 10870, 10937, 11338, 11378, 11577, 11580, 11646, 11678, 11723, 11770, 11777, 11817, 11823, 11837, 11934, 11970, 12011, 12176, 12239, 12245, 12422, 12543, 12813, 12833, 12860, 12912, 13019, 13034, 13102, 13147, 13436, 13459, 13460, 13481, 13494, 13508, 13516, 13720, 13782, 14182, 14310, 14438, 14445, 14489, 14514, 14605, 14653, 14728, 14736, 14838, 14949, 14969, 15072, 15099, 15119, 15440, 15494, 15536, 15670, 15750, 15846, 15870, 15871, 16104, 16251, 16399, 16431, 16501, 16526, 16630, 16837, 16864, 16915, 16919, 17102, 17183, 17290, 17317, 17433, 17494, 17511, 17513, 17524, 17648, 17698, 17968, 18058, 18066, 18073, 18108, 18296, 18306, 18342, 18466, 18503, 18569, 18665, 18670, 18718, 18745, 18802, 18803, 18852, 18926, 18965, 18992, 19037, 19053, 19171, 19252, 19302, 19324, 19394, 19479, 19575, 19577, 19856, 19878, 19889, 20070, 20106, 20119, 20253, 20271, 20311, 20332, 20397, 20433, 20451, 20542, 20633, 20861, 20906, 21033, 21047, 21122, 21125, 21519, 21542, 21732, 21874, 21914, 21964, 21982, 21995, 22033, 22090, 22169, 22190, 22356, 22357, 22386, 22518, 22529, 22541, 22596, 22840, 23105, 23147, 23349, 23514, 23532, 23762, 23898, 23980, 24069, 24233, 24300, 24375, 24422, 24462, 24531, 24548, 24639, 24647, 24694, 24717, 24731, 24830, 24911, 24931, 25024, 25063, 25176, 25219, 25291, 25306, 25327, 25484, 25508, 25515, 25621, 25622, 25641, 25657, 25703, 25762, 26023, 26036, 26201, 26350, 26369, 26422, 26426, 26466, 26586, 26627, 26655, 26672, 26714, 26723, 26758, 26774, 26808, 26823, 26842, 26846, 26872, 26885, 27039, 27057, 27237, 27248, 27323, 27380, 27453, 27461, 27799, 27947, 27991, 28057, 28099, 28215, 28244, 28295, 28306, 28389, 28478, 28486, 28539, 28566, 28604, 28682, 28689, 28703, 28730, 28758, 28783, 28799, 28897, 28938, 28951, 28978, 28985, 29005, 29057, 29177, 29182, 29279, 29314, 29347, 29484, 29495, 29746, 29760, 29828, 29874, 29953, 30136, 30141, 30153, 93, 383, 451, 544, 582, 587, 648, 959, 1074, 1174, 1482, 1493, 1520, 1544, 1621, 2172, 2313, 2470, 2754, 2821, 2861, 3111, 3112, 3134, 3215, 3351, 3372, 3549, 3910, 3981, 3986, 4168, 4337, 4449, 4936, 5006, 5016, 5023, 5036, 5213, 5280, 5448, 5731, 5753, 5915, 6034, 6329, 6339, 6480, 6602, 6863, 6934, 7038, 7148, 7358, 7371, 7416, 7823, 7953, 8076, 8123, 8177, 8432, 8536, 8637, 8872, 9191, 9383, 9523, 9581, 9664, 9701, 9715, 9974, 10150, 10185, 10193, 10241, 10358, 10662, 10703, 10717, 10876, 11073, 11268, 11310, 11329, 11587, 11658, 11675, 11912, 12033, 12143, 12299, 12454, 12500, 13074, 13447, 13498, 13655, 13891, 14008, 14189, 14257, 14278, 14303, 14357, 14453, 14613, 14852, 14872, 15004, 15163, 15293, 15677, 15791, 15978, 16203, 16439, 16442, 16593, 16659, 17288, 17471, 17506, 17613, 17636, 17685, 17734, 17873, 17919, 17958, 18161, 18205, 18759, 18871, 19049, 19087, 19243, 19280, 19389, 19654, 19903, 19953, 19991, 19995, 19998, 20084, 20255, 20381, 20391, 20427, 20611, 20696, 20719, 20740, 20745, 20922, 21138, 21595, 21615, 21700, 22267, 22339, 22841, 23333, 23453, 23495, 23582, 23813, 23930, 24637, 24891, 24906, 25167, 25222, 25430, 25615, 25867, 25899, 25931, 26081, 26132, 26403, 26531, 26644, 26742, 26770, 26779, 26866, 26987, 27089, 27153, 27360, 27391, 27463, 27545, 27620, 27813, 27838, 28004, 28201, 28416, 28479, 28490, 28644, 28676, 28706, 29204, 29374, 29400, 29436, 29456, 29458, 29474, 29482, 29523, 29703, 29730, 48, 229, 360, 376, 734, 923, 981, 1790, 2150, 2203, 2389, 2949, 2990, 3355, 3422, 3580, 3829, 4016, 4402, 5734, 5830, 5941, 6056, 6611, 6744, 7186, 7258, 7365, 7466, 7471, 7577, 8301, 8598, 8896, 9300, 9914, 10135, 10156, 10254, 11031, 11234, 11546, 11628, 11836, 11887, 12199, 12368, 12478, 12527, 12644, 12728, 13055, 13532, 14055, 14130, 14350, 14476, 14637, 15402, 15487, 15707, 15769, 16091, 16696, 16827, 18061, 18129, 18945, 19202, 19495, 19593, 20801, 20911, 21057, 21297, 21823, 22277, 22537, 22603, 22722, 23160, 23291, 23536, 23664, 23905, 23935, 24475, 24755, 25171, 25775, 25787, 26137, 26572, 26629, 26698, 26728, 27050, 27149, 27411, 27603, 27760, 27996, 28536, 28733, 28779, 28852, 28935, 29290, 29355, 29548, 4239, 4363, 5357, 5506, 8449, 8636, 9081, 12829, 12926, 13817, 14028, 14084, 16351, 17093, 17126, 19042, 19978, 20222, 21005, 23077, 25816, 26905, 28670, 29149]\n"
     ]
    }
   ],
   "source": [
    "def outlier(sal):\n",
    "    \n",
    "    outlier_indices = []\n",
    "    \n",
    "    # iterate over features(columns)\n",
    "    for col in sal.columns.tolist():\n",
    "        Q1 = np.percentile(sal[col], 25)\n",
    "        Q3 = np.percentile(sal[col],75)\n",
    "        IQR = Q3 - Q1\n",
    "        \n",
    "        # outlier step\n",
    "        outlier_step = 1.5 * IQR\n",
    "        \n",
    "        # Determine a list of indices of outliers for feature col\n",
    "        outlier_list_col = sal[(sal[col] < Q1 - outlier_step) | (sal[col] > Q3 + outlier_step )].index\n",
    "        \n",
    "        # append the found outlier indices for col to the list of outlier indices \n",
    "        outlier_indices.extend(outlier_list_col)\n",
    "        \n",
    "    # select observations containing more than 2 outliers\n",
    "    outlier_indices = Counter(outlier_indices)        \n",
    "    multiple_outliers = list( k for k, v in outlier_indices.items() if v > 2 )\n",
    "    \n",
    "    return multiple_outliers   \n",
    "\n",
    "print('The dataset contains %d observations with more than 2 outliers' %(len(outlier(sal[numerical_features]))))\n",
    "print(outlier(sal[numerical_features]))"
   ]
  },
  {
   "cell_type": "code",
   "execution_count": 14,
   "id": "128604ee",
   "metadata": {
    "scrolled": true
   },
   "outputs": [
    {
     "data": {
      "image/png": "[encoded data removed]",
      "text/plain": [
       "<Figure size 1000x600 with 2 Axes>"
      ]
     },
     "metadata": {},
     "output_type": "display_data"
    }
   ],
   "source": [
    "corr = sal.corr()\n",
    "fig, ax = plt.subplots(figsize=(10, 6))\n",
    "sns.heatmap(corr, cmap='magma', annot=True, fmt=\".2f\")\n",
    "plt.xticks(range(len(corr.columns)), corr.columns);\n",
    "plt.yticks(range(len(corr.columns)), corr.columns)\n",
    "plt.show()"
   ]
  },
  {
   "cell_type": "code",
   "execution_count": 15,
   "id": "4f230307",
   "metadata": {},
   "outputs": [
    {
     "data": {
      "text/plain": [
       "array([[ 0.04277892,  2.93594688, -0.34982703, ..., -0.21850808,\n",
       "        -0.07773541,  0.26635842],\n",
       "       [ 0.88026081,  1.88764517, -0.34982703, ..., -0.21850808,\n",
       "        -2.33149486,  0.26635842],\n",
       "       [-0.0333558 , -0.20895825,  0.1748048 , ..., -0.21850808,\n",
       "        -0.07773541,  0.26635842],\n",
       "       ...,\n",
       "       [ 1.48933854, -0.20895825,  0.1748048 , ..., -0.21850808,\n",
       "        -0.07773541,  0.26635842],\n",
       "       [-1.25151126, -0.20895825,  0.1748048 , ..., -0.21850808,\n",
       "        -1.74718685,  0.26635842],\n",
       "       [ 1.03253024,  0.83934346,  0.1748048 , ..., -0.21850808,\n",
       "        -0.07773541,  0.26635842]])"
      ]
     },
     "execution_count": 15,
     "metadata": {},
     "output_type": "execute_result"
    }
   ],
   "source": [
    "# applying standardization\n",
    "scaler=StandardScaler()\n",
    "sal_std=scaler.fit_transform(sal.drop(['Salary'],axis=1))\n",
    "sal_std"
   ]
  },
  {
   "cell_type": "code",
   "execution_count": 16,
   "id": "1a48f0ee",
   "metadata": {},
   "outputs": [],
   "source": [
    "# pca=PCA(random_state=10,n_components=0.95)\n",
    "# sal_pca=pca.fit_transform(sal_std)\n",
    "# sal_pca"
   ]
  },
  {
   "cell_type": "code",
   "execution_count": 17,
   "id": "2c73fd24",
   "metadata": {},
   "outputs": [],
   "source": [
    "# print(pca.singular_values_)"
   ]
  },
  {
   "cell_type": "code",
   "execution_count": 18,
   "id": "8727c753",
   "metadata": {},
   "outputs": [],
   "source": [
    "# np.round(np.cumsum(pca.explained_variance_ratio_*100),decimals=2)"
   ]
  },
  {
   "cell_type": "code",
   "execution_count": 19,
   "id": "4f779c1b",
   "metadata": {},
   "outputs": [],
   "source": [
    "# finalDF=pd.concat([pd.DataFrame(sal_pca[:,0:9],columns=['pc1','pc2','pc3','pc4','pc5','pc6','pc7','pc8','pc9'])],axis=1)\n",
    "# finalDF"
   ]
  },
  {
   "cell_type": "code",
   "execution_count": 20,
   "id": "945ca873",
   "metadata": {},
   "outputs": [],
   "source": [
    "from sklearn import svm\n",
    "from sklearn.svm import SVC"
   ]
  },
  {
   "cell_type": "code",
   "execution_count": 21,
   "id": "41c7921f",
   "metadata": {},
   "outputs": [
    {
     "name": "stdout",
     "output_type": "stream",
     "text": [
      "[[ 0.04277892  2.93594688 -0.34982703 ... -0.21850808 -0.07773541\n",
      "   0.26635842]\n",
      " [ 0.88026081  1.88764517 -0.34982703 ... -0.21850808 -2.33149486\n",
      "   0.26635842]\n",
      " [-0.0333558  -0.20895825  0.1748048  ... -0.21850808 -0.07773541\n",
      "   0.26635842]\n",
      " ...\n",
      " [ 1.48933854 -0.20895825  0.1748048  ... -0.21850808 -0.07773541\n",
      "   0.26635842]\n",
      " [-1.25151126 -0.20895825  0.1748048  ... -0.21850808 -1.74718685\n",
      "   0.26635842]\n",
      " [ 1.03253024  0.83934346  0.1748048  ... -0.21850808 -0.07773541\n",
      "   0.26635842]]\n",
      "[0 0 0 ... 0 0 1]\n"
     ]
    }
   ],
   "source": [
    "X=sal_std\n",
    "print(X)\n",
    "Y=sal['Salary'].values\n",
    "print(Y)"
   ]
  },
  {
   "cell_type": "markdown",
   "id": "343161f5",
   "metadata": {},
   "source": [
    "### Train & Test split"
   ]
  },
  {
   "cell_type": "code",
   "execution_count": 22,
   "id": "6c4c46e2",
   "metadata": {},
   "outputs": [],
   "source": [
    "x_train,x_test,y_train,y_test = train_test_split(X,Y,test_size=0.30,random_state=45,stratify=Y)"
   ]
  },
  {
   "cell_type": "code",
   "execution_count": 23,
   "id": "abe186cf",
   "metadata": {},
   "outputs": [
    {
     "data": {
      "text/plain": [
       "((21112, 13), (9049, 13), (21112,), (9049,))"
      ]
     },
     "execution_count": 23,
     "metadata": {},
     "output_type": "execute_result"
    }
   ],
   "source": [
    "x_train.shape,x_test.shape,y_train.shape,y_test.shape"
   ]
  },
  {
   "cell_type": "code",
   "execution_count": 24,
   "id": "242e2059",
   "metadata": {},
   "outputs": [
    {
     "data": {
      "text/plain": [
       "SVC()"
      ]
     },
     "execution_count": 24,
     "metadata": {},
     "output_type": "execute_result"
    }
   ],
   "source": [
    "clf=SVC()\n",
    "clf.fit(x_train,y_train)"
   ]
  },
  {
   "cell_type": "code",
   "execution_count": 25,
   "id": "a68f22f2",
   "metadata": {},
   "outputs": [],
   "source": [
    "y_pred=clf.predict(x_test)"
   ]
  },
  {
   "cell_type": "code",
   "execution_count": 26,
   "id": "8570fd60",
   "metadata": {},
   "outputs": [
    {
     "data": {
      "text/plain": [
       "array([0, 0, 0, ..., 0, 0, 0])"
      ]
     },
     "execution_count": 26,
     "metadata": {},
     "output_type": "execute_result"
    }
   ],
   "source": [
    "y_pred"
   ]
  },
  {
   "cell_type": "code",
   "execution_count": 27,
   "id": "0755b628",
   "metadata": {},
   "outputs": [
    {
     "name": "stdout",
     "output_type": "stream",
     "text": [
      "accuracy= 84.3518620842082\n"
     ]
    }
   ],
   "source": [
    "acc=accuracy_score(y_test,y_pred)*100\n",
    "print('accuracy=',acc)"
   ]
  },
  {
   "cell_type": "code",
   "execution_count": 28,
   "id": "d4f61a8f",
   "metadata": {},
   "outputs": [
    {
     "name": "stdout",
     "output_type": "stream",
     "text": [
      "{'kernel': 'rbf', 'gamma': 0.1, 'C': 6.1}\n"
     ]
    }
   ],
   "source": [
    "# Hyperparameter tuning\n",
    "param_grid={'C':np.arange(0.1,10), 'gamma':[0.001,0.01,0.1,0.2,0.5,0.9,1,10],'kernel':['rbf','linear']}\n",
    "\n",
    "grid=RandomizedSearchCV(clf,param_distributions=param_grid,cv=5,random_state=42,n_jobs=-1)\n",
    "\n",
    "grid.fit(x_train,y_train)\n",
    "print(grid.best_params_)"
   ]
  },
  {
   "cell_type": "code",
   "execution_count": 29,
   "id": "8c5d3b40",
   "metadata": {},
   "outputs": [
    {
     "data": {
      "text/plain": [
       "SVC(C=6.1, gamma=0.1)"
      ]
     },
     "execution_count": 29,
     "metadata": {},
     "output_type": "execute_result"
    }
   ],
   "source": [
    "clf1=SVC(C=6.1,gamma=0.1,kernel='rbf')\n",
    "clf1.fit(x_train,y_train)"
   ]
  },
  {
   "cell_type": "code",
   "execution_count": 30,
   "id": "cba8cfef",
   "metadata": {},
   "outputs": [],
   "source": [
    "y_pred1=clf1.predict(x_train)"
   ]
  },
  {
   "cell_type": "code",
   "execution_count": 31,
   "id": "fc2970e9",
   "metadata": {},
   "outputs": [
    {
     "name": "stdout",
     "output_type": "stream",
     "text": [
      "accuracy score= 86.69477074649488\n"
     ]
    }
   ],
   "source": [
    "accu=accuracy_score(y_train,y_pred1)*100\n",
    "print(\"accuracy score=\",accu)"
   ]
  },
  {
   "cell_type": "code",
   "execution_count": 32,
   "id": "6e65b0df",
   "metadata": {},
   "outputs": [
    {
     "data": {
      "text/plain": [
       "array([[15026,   831],\n",
       "       [ 1978,  3277]], dtype=int64)"
      ]
     },
     "execution_count": 32,
     "metadata": {},
     "output_type": "execute_result"
    }
   ],
   "source": [
    "confusion_matrix(y_train,y_pred1)"
   ]
  },
  {
   "cell_type": "code",
   "execution_count": 33,
   "id": "0826d055",
   "metadata": {},
   "outputs": [
    {
     "name": "stdout",
     "output_type": "stream",
     "text": [
      "              precision    recall  f1-score   support\n",
      "\n",
      "           0       0.88      0.95      0.91     15857\n",
      "           1       0.80      0.62      0.70      5255\n",
      "\n",
      "    accuracy                           0.87     21112\n",
      "   macro avg       0.84      0.79      0.81     21112\n",
      "weighted avg       0.86      0.87      0.86     21112\n",
      "\n"
     ]
    }
   ],
   "source": [
    "print(classification_report(y_train,y_pred1))"
   ]
  },
  {
   "cell_type": "code",
   "execution_count": 34,
   "id": "9f8e580e",
   "metadata": {},
   "outputs": [],
   "source": [
    "y_pred_test=clf1.predict(x_test)"
   ]
  },
  {
   "cell_type": "code",
   "execution_count": 35,
   "id": "7a69588d",
   "metadata": {},
   "outputs": [
    {
     "name": "stdout",
     "output_type": "stream",
     "text": [
      "accuracy score= 84.44026964305448\n"
     ]
    }
   ],
   "source": [
    "accur=accuracy_score(y_test,y_pred_test)*100\n",
    "print(\"accuracy score=\",accur)"
   ]
  },
  {
   "cell_type": "code",
   "execution_count": 36,
   "id": "3d436a37",
   "metadata": {},
   "outputs": [
    {
     "name": "stdout",
     "output_type": "stream",
     "text": [
      "              precision    recall  f1-score   support\n",
      "\n",
      "           0       0.87      0.93      0.90      6796\n",
      "           1       0.74      0.59      0.65      2253\n",
      "\n",
      "    accuracy                           0.84      9049\n",
      "   macro avg       0.80      0.76      0.78      9049\n",
      "weighted avg       0.84      0.84      0.84      9049\n",
      "\n"
     ]
    }
   ],
   "source": [
    "print(classification_report(y_test,y_pred_test))"
   ]
  },
  {
   "cell_type": "code",
   "execution_count": 37,
   "id": "cf7c921a",
   "metadata": {},
   "outputs": [
    {
     "data": {
      "text/html": [
       "<div>\n",
       "<style scoped>\n",
       "    .dataframe tbody tr th:only-of-type {\n",
       "        vertical-align: middle;\n",
       "    }\n",
       "\n",
       "    .dataframe tbody tr th {\n",
       "        vertical-align: top;\n",
       "    }\n",
       "\n",
       "    .dataframe thead th {\n",
       "        text-align: right;\n",
       "    }\n",
       "</style>\n",
       "<table border=\"1\" class=\"dataframe\">\n",
       "  <thead>\n",
       "    <tr style=\"text-align: right;\">\n",
       "      <th></th>\n",
       "      <th>actual</th>\n",
       "      <th>Prediction</th>\n",
       "      <th>Correct</th>\n",
       "    </tr>\n",
       "  </thead>\n",
       "  <tbody>\n",
       "    <tr>\n",
       "      <th>0</th>\n",
       "      <td>0</td>\n",
       "      <td>0</td>\n",
       "      <td>True</td>\n",
       "    </tr>\n",
       "    <tr>\n",
       "      <th>1</th>\n",
       "      <td>0</td>\n",
       "      <td>0</td>\n",
       "      <td>True</td>\n",
       "    </tr>\n",
       "    <tr>\n",
       "      <th>2</th>\n",
       "      <td>1</td>\n",
       "      <td>0</td>\n",
       "      <td>False</td>\n",
       "    </tr>\n",
       "    <tr>\n",
       "      <th>3</th>\n",
       "      <td>0</td>\n",
       "      <td>0</td>\n",
       "      <td>True</td>\n",
       "    </tr>\n",
       "    <tr>\n",
       "      <th>4</th>\n",
       "      <td>0</td>\n",
       "      <td>0</td>\n",
       "      <td>True</td>\n",
       "    </tr>\n",
       "    <tr>\n",
       "      <th>...</th>\n",
       "      <td>...</td>\n",
       "      <td>...</td>\n",
       "      <td>...</td>\n",
       "    </tr>\n",
       "    <tr>\n",
       "      <th>9044</th>\n",
       "      <td>0</td>\n",
       "      <td>1</td>\n",
       "      <td>False</td>\n",
       "    </tr>\n",
       "    <tr>\n",
       "      <th>9045</th>\n",
       "      <td>0</td>\n",
       "      <td>0</td>\n",
       "      <td>True</td>\n",
       "    </tr>\n",
       "    <tr>\n",
       "      <th>9046</th>\n",
       "      <td>1</td>\n",
       "      <td>1</td>\n",
       "      <td>True</td>\n",
       "    </tr>\n",
       "    <tr>\n",
       "      <th>9047</th>\n",
       "      <td>1</td>\n",
       "      <td>1</td>\n",
       "      <td>True</td>\n",
       "    </tr>\n",
       "    <tr>\n",
       "      <th>9048</th>\n",
       "      <td>0</td>\n",
       "      <td>0</td>\n",
       "      <td>True</td>\n",
       "    </tr>\n",
       "  </tbody>\n",
       "</table>\n",
       "<p>9049 rows × 3 columns</p>\n",
       "</div>"
      ],
      "text/plain": [
       "      actual  Prediction  Correct\n",
       "0          0           0     True\n",
       "1          0           0     True\n",
       "2          1           0    False\n",
       "3          0           0     True\n",
       "4          0           0     True\n",
       "...      ...         ...      ...\n",
       "9044       0           1    False\n",
       "9045       0           0     True\n",
       "9046       1           1     True\n",
       "9047       1           1     True\n",
       "9048       0           0     True\n",
       "\n",
       "[9049 rows x 3 columns]"
      ]
     },
     "execution_count": 37,
     "metadata": {},
     "output_type": "execute_result"
    }
   ],
   "source": [
    "y_pred_df=pd.DataFrame({'actual':y_test,'Prediction':y_pred_test})\n",
    "y_pred_df['Correct']=y_pred_df['actual']==y_pred_df['Prediction']\n",
    "y_pred_df"
   ]
  },
  {
   "cell_type": "code",
   "execution_count": 38,
   "id": "a7377416",
   "metadata": {},
   "outputs": [
    {
     "data": {
      "text/plain": [
       "True     7641\n",
       "False    1408\n",
       "Name: Correct, dtype: int64"
      ]
     },
     "execution_count": 38,
     "metadata": {},
     "output_type": "execute_result"
    }
   ],
   "source": [
    "y_pred_df['Correct'].value_counts()"
   ]
  },
  {
   "cell_type": "code",
   "execution_count": 39,
   "id": "3096905c",
   "metadata": {},
   "outputs": [
    {
     "data": {
      "text/html": [
       "<div>\n",
       "<style scoped>\n",
       "    .dataframe tbody tr th:only-of-type {\n",
       "        vertical-align: middle;\n",
       "    }\n",
       "\n",
       "    .dataframe tbody tr th {\n",
       "        vertical-align: top;\n",
       "    }\n",
       "\n",
       "    .dataframe thead th {\n",
       "        text-align: right;\n",
       "    }\n",
       "</style>\n",
       "<table border=\"1\" class=\"dataframe\">\n",
       "  <thead>\n",
       "    <tr style=\"text-align: right;\">\n",
       "      <th></th>\n",
       "      <th>actual</th>\n",
       "      <th>Prediction</th>\n",
       "      <th>Correct</th>\n",
       "    </tr>\n",
       "  </thead>\n",
       "  <tbody>\n",
       "    <tr>\n",
       "      <th>2</th>\n",
       "      <td>1</td>\n",
       "      <td>0</td>\n",
       "      <td>False</td>\n",
       "    </tr>\n",
       "    <tr>\n",
       "      <th>6</th>\n",
       "      <td>1</td>\n",
       "      <td>0</td>\n",
       "      <td>False</td>\n",
       "    </tr>\n",
       "    <tr>\n",
       "      <th>8</th>\n",
       "      <td>0</td>\n",
       "      <td>1</td>\n",
       "      <td>False</td>\n",
       "    </tr>\n",
       "    <tr>\n",
       "      <th>9</th>\n",
       "      <td>0</td>\n",
       "      <td>1</td>\n",
       "      <td>False</td>\n",
       "    </tr>\n",
       "    <tr>\n",
       "      <th>18</th>\n",
       "      <td>0</td>\n",
       "      <td>1</td>\n",
       "      <td>False</td>\n",
       "    </tr>\n",
       "    <tr>\n",
       "      <th>...</th>\n",
       "      <td>...</td>\n",
       "      <td>...</td>\n",
       "      <td>...</td>\n",
       "    </tr>\n",
       "    <tr>\n",
       "      <th>9025</th>\n",
       "      <td>0</td>\n",
       "      <td>1</td>\n",
       "      <td>False</td>\n",
       "    </tr>\n",
       "    <tr>\n",
       "      <th>9031</th>\n",
       "      <td>1</td>\n",
       "      <td>0</td>\n",
       "      <td>False</td>\n",
       "    </tr>\n",
       "    <tr>\n",
       "      <th>9034</th>\n",
       "      <td>1</td>\n",
       "      <td>0</td>\n",
       "      <td>False</td>\n",
       "    </tr>\n",
       "    <tr>\n",
       "      <th>9035</th>\n",
       "      <td>1</td>\n",
       "      <td>0</td>\n",
       "      <td>False</td>\n",
       "    </tr>\n",
       "    <tr>\n",
       "      <th>9044</th>\n",
       "      <td>0</td>\n",
       "      <td>1</td>\n",
       "      <td>False</td>\n",
       "    </tr>\n",
       "  </tbody>\n",
       "</table>\n",
       "<p>1408 rows × 3 columns</p>\n",
       "</div>"
      ],
      "text/plain": [
       "      actual  Prediction  Correct\n",
       "2          1           0    False\n",
       "6          1           0    False\n",
       "8          0           1    False\n",
       "9          0           1    False\n",
       "18         0           1    False\n",
       "...      ...         ...      ...\n",
       "9025       0           1    False\n",
       "9031       1           0    False\n",
       "9034       1           0    False\n",
       "9035       1           0    False\n",
       "9044       0           1    False\n",
       "\n",
       "[1408 rows x 3 columns]"
      ]
     },
     "execution_count": 39,
     "metadata": {},
     "output_type": "execute_result"
    }
   ],
   "source": [
    "y_pred_df[y_pred_df['Correct']==False]"
   ]
  },
  {
   "cell_type": "markdown",
   "id": "73ba79df",
   "metadata": {},
   "source": [
    "### Applying imbalance technique"
   ]
  },
  {
   "cell_type": "code",
   "execution_count": 40,
   "id": "d5fdfab8",
   "metadata": {},
   "outputs": [],
   "source": [
    "from imblearn.combine import SMOTEENN"
   ]
  },
  {
   "cell_type": "code",
   "execution_count": 41,
   "id": "b60bc19b",
   "metadata": {},
   "outputs": [],
   "source": [
    "sm=SMOTEENN(random_state=1)\n",
    "x_resampled,y_resampled=sm.fit_resample(X,Y)"
   ]
  },
  {
   "cell_type": "code",
   "execution_count": 42,
   "id": "2ea7b9f2",
   "metadata": {},
   "outputs": [],
   "source": [
    "xr_train,xr_test,yr_train,yr_test=train_test_split(x_resampled,y_resampled,test_size=0.3,random_state=1)"
   ]
  },
  {
   "cell_type": "code",
   "execution_count": 44,
   "id": "49e746c9",
   "metadata": {},
   "outputs": [
    {
     "data": {
      "text/plain": [
       "SVC()"
      ]
     },
     "execution_count": 44,
     "metadata": {},
     "output_type": "execute_result"
    }
   ],
   "source": [
    "model=SVC()\n",
    "model.fit(xr_train,yr_train)"
   ]
  },
  {
   "cell_type": "code",
   "execution_count": 45,
   "id": "e2e3460b",
   "metadata": {},
   "outputs": [
    {
     "data": {
      "text/plain": [
       "0.9368862520458265"
      ]
     },
     "execution_count": 45,
     "metadata": {},
     "output_type": "execute_result"
    }
   ],
   "source": [
    "y_pred_r = model.predict(xr_test)\n",
    "accuracy_test_r= np.mean(y_pred_r== yr_test)\n",
    "accuracy_test_r"
   ]
  },
  {
   "cell_type": "code",
   "execution_count": 46,
   "id": "0a378c31",
   "metadata": {},
   "outputs": [
    {
     "name": "stdout",
     "output_type": "stream",
     "text": [
      "              precision    recall  f1-score   support\n",
      "\n",
      "           0       0.94      0.93      0.94      4868\n",
      "           1       0.93      0.94      0.94      4908\n",
      "\n",
      "    accuracy                           0.94      9776\n",
      "   macro avg       0.94      0.94      0.94      9776\n",
      "weighted avg       0.94      0.94      0.94      9776\n",
      "\n"
     ]
    }
   ],
   "source": [
    "print(classification_report(yr_test,y_pred_r))"
   ]
  },
  {
   "cell_type": "code",
   "execution_count": 47,
   "id": "9e6c7bb8",
   "metadata": {},
   "outputs": [
    {
     "data": {
      "text/plain": [
       "0.9430512932924157"
      ]
     },
     "execution_count": 47,
     "metadata": {},
     "output_type": "execute_result"
    }
   ],
   "source": [
    "y_pred_train = model.predict(xr_train)\n",
    "accuracy_train_r= np.mean(y_pred_train== yr_train)\n",
    "accuracy_train_r"
   ]
  },
  {
   "cell_type": "code",
   "execution_count": 50,
   "id": "d5736128",
   "metadata": {},
   "outputs": [
    {
     "name": "stdout",
     "output_type": "stream",
     "text": [
      "              precision    recall  f1-score   support\n",
      "\n",
      "           0       0.94      0.94      0.94     11065\n",
      "           1       0.94      0.95      0.94     11745\n",
      "\n",
      "    accuracy                           0.94     22810\n",
      "   macro avg       0.94      0.94      0.94     22810\n",
      "weighted avg       0.94      0.94      0.94     22810\n",
      "\n"
     ]
    }
   ],
   "source": [
    "print(classification_report(yr_train,y_pred_train))"
   ]
  },
  {
   "cell_type": "code",
   "execution_count": 48,
   "id": "d4638892",
   "metadata": {},
   "outputs": [
    {
     "data": {
      "text/html": [
       "<div>\n",
       "<style scoped>\n",
       "    .dataframe tbody tr th:only-of-type {\n",
       "        vertical-align: middle;\n",
       "    }\n",
       "\n",
       "    .dataframe tbody tr th {\n",
       "        vertical-align: top;\n",
       "    }\n",
       "\n",
       "    .dataframe thead th {\n",
       "        text-align: right;\n",
       "    }\n",
       "</style>\n",
       "<table border=\"1\" class=\"dataframe\">\n",
       "  <thead>\n",
       "    <tr style=\"text-align: right;\">\n",
       "      <th></th>\n",
       "      <th>actual</th>\n",
       "      <th>Prediction</th>\n",
       "      <th>Correct</th>\n",
       "    </tr>\n",
       "  </thead>\n",
       "  <tbody>\n",
       "    <tr>\n",
       "      <th>0</th>\n",
       "      <td>1</td>\n",
       "      <td>1</td>\n",
       "      <td>True</td>\n",
       "    </tr>\n",
       "    <tr>\n",
       "      <th>1</th>\n",
       "      <td>1</td>\n",
       "      <td>1</td>\n",
       "      <td>True</td>\n",
       "    </tr>\n",
       "    <tr>\n",
       "      <th>2</th>\n",
       "      <td>0</td>\n",
       "      <td>0</td>\n",
       "      <td>True</td>\n",
       "    </tr>\n",
       "    <tr>\n",
       "      <th>3</th>\n",
       "      <td>0</td>\n",
       "      <td>0</td>\n",
       "      <td>True</td>\n",
       "    </tr>\n",
       "    <tr>\n",
       "      <th>4</th>\n",
       "      <td>0</td>\n",
       "      <td>0</td>\n",
       "      <td>True</td>\n",
       "    </tr>\n",
       "    <tr>\n",
       "      <th>...</th>\n",
       "      <td>...</td>\n",
       "      <td>...</td>\n",
       "      <td>...</td>\n",
       "    </tr>\n",
       "    <tr>\n",
       "      <th>9771</th>\n",
       "      <td>0</td>\n",
       "      <td>0</td>\n",
       "      <td>True</td>\n",
       "    </tr>\n",
       "    <tr>\n",
       "      <th>9772</th>\n",
       "      <td>1</td>\n",
       "      <td>0</td>\n",
       "      <td>False</td>\n",
       "    </tr>\n",
       "    <tr>\n",
       "      <th>9773</th>\n",
       "      <td>1</td>\n",
       "      <td>1</td>\n",
       "      <td>True</td>\n",
       "    </tr>\n",
       "    <tr>\n",
       "      <th>9774</th>\n",
       "      <td>1</td>\n",
       "      <td>1</td>\n",
       "      <td>True</td>\n",
       "    </tr>\n",
       "    <tr>\n",
       "      <th>9775</th>\n",
       "      <td>0</td>\n",
       "      <td>0</td>\n",
       "      <td>True</td>\n",
       "    </tr>\n",
       "  </tbody>\n",
       "</table>\n",
       "<p>9776 rows × 3 columns</p>\n",
       "</div>"
      ],
      "text/plain": [
       "      actual  Prediction  Correct\n",
       "0          1           1     True\n",
       "1          1           1     True\n",
       "2          0           0     True\n",
       "3          0           0     True\n",
       "4          0           0     True\n",
       "...      ...         ...      ...\n",
       "9771       0           0     True\n",
       "9772       1           0    False\n",
       "9773       1           1     True\n",
       "9774       1           1     True\n",
       "9775       0           0     True\n",
       "\n",
       "[9776 rows x 3 columns]"
      ]
     },
     "metadata": {},
     "output_type": "display_data"
    }
   ],
   "source": [
    "y_pred_df=pd.DataFrame({'actual':yr_test,'Prediction':y_pred_r})\n",
    "y_pred_df['Correct']=y_pred_df['actual']==y_pred_df['Prediction']\n",
    "display(y_pred_df)"
   ]
  },
  {
   "cell_type": "code",
   "execution_count": 49,
   "id": "3ac2095f",
   "metadata": {},
   "outputs": [
    {
     "data": {
      "text/plain": [
       "True     9159\n",
       "False     617\n",
       "Name: Correct, dtype: int64"
      ]
     },
     "execution_count": 49,
     "metadata": {},
     "output_type": "execute_result"
    }
   ],
   "source": [
    "y_pred_df['Correct'].value_counts()"
   ]
  },
  {
   "cell_type": "markdown",
   "id": "10f6f27c",
   "metadata": {},
   "source": [
    "## This model is giving 94%, applying test data on it."
   ]
  },
  {
   "cell_type": "code",
   "execution_count": 51,
   "id": "44956874",
   "metadata": {},
   "outputs": [
    {
     "data": {
      "text/html": [
       "<div>\n",
       "<style scoped>\n",
       "    .dataframe tbody tr th:only-of-type {\n",
       "        vertical-align: middle;\n",
       "    }\n",
       "\n",
       "    .dataframe tbody tr th {\n",
       "        vertical-align: top;\n",
       "    }\n",
       "\n",
       "    .dataframe thead th {\n",
       "        text-align: right;\n",
       "    }\n",
       "</style>\n",
       "<table border=\"1\" class=\"dataframe\">\n",
       "  <thead>\n",
       "    <tr style=\"text-align: right;\">\n",
       "      <th></th>\n",
       "      <th>age</th>\n",
       "      <th>workclass</th>\n",
       "      <th>education</th>\n",
       "      <th>educationno</th>\n",
       "      <th>maritalstatus</th>\n",
       "      <th>occupation</th>\n",
       "      <th>relationship</th>\n",
       "      <th>race</th>\n",
       "      <th>sex</th>\n",
       "      <th>capitalgain</th>\n",
       "      <th>capitalloss</th>\n",
       "      <th>hoursperweek</th>\n",
       "      <th>native</th>\n",
       "      <th>Salary</th>\n",
       "    </tr>\n",
       "  </thead>\n",
       "  <tbody>\n",
       "    <tr>\n",
       "      <th>0</th>\n",
       "      <td>25</td>\n",
       "      <td>Private</td>\n",
       "      <td>11th</td>\n",
       "      <td>7</td>\n",
       "      <td>Never-married</td>\n",
       "      <td>Machine-op-inspct</td>\n",
       "      <td>Own-child</td>\n",
       "      <td>Black</td>\n",
       "      <td>Male</td>\n",
       "      <td>0</td>\n",
       "      <td>0</td>\n",
       "      <td>40</td>\n",
       "      <td>United-States</td>\n",
       "      <td>&lt;=50K</td>\n",
       "    </tr>\n",
       "    <tr>\n",
       "      <th>1</th>\n",
       "      <td>38</td>\n",
       "      <td>Private</td>\n",
       "      <td>HS-grad</td>\n",
       "      <td>9</td>\n",
       "      <td>Married-civ-spouse</td>\n",
       "      <td>Farming-fishing</td>\n",
       "      <td>Husband</td>\n",
       "      <td>White</td>\n",
       "      <td>Male</td>\n",
       "      <td>0</td>\n",
       "      <td>0</td>\n",
       "      <td>50</td>\n",
       "      <td>United-States</td>\n",
       "      <td>&lt;=50K</td>\n",
       "    </tr>\n",
       "    <tr>\n",
       "      <th>2</th>\n",
       "      <td>28</td>\n",
       "      <td>Local-gov</td>\n",
       "      <td>Assoc-acdm</td>\n",
       "      <td>12</td>\n",
       "      <td>Married-civ-spouse</td>\n",
       "      <td>Protective-serv</td>\n",
       "      <td>Husband</td>\n",
       "      <td>White</td>\n",
       "      <td>Male</td>\n",
       "      <td>0</td>\n",
       "      <td>0</td>\n",
       "      <td>40</td>\n",
       "      <td>United-States</td>\n",
       "      <td>&gt;50K</td>\n",
       "    </tr>\n",
       "    <tr>\n",
       "      <th>3</th>\n",
       "      <td>44</td>\n",
       "      <td>Private</td>\n",
       "      <td>Some-college</td>\n",
       "      <td>10</td>\n",
       "      <td>Married-civ-spouse</td>\n",
       "      <td>Machine-op-inspct</td>\n",
       "      <td>Husband</td>\n",
       "      <td>Black</td>\n",
       "      <td>Male</td>\n",
       "      <td>7688</td>\n",
       "      <td>0</td>\n",
       "      <td>40</td>\n",
       "      <td>United-States</td>\n",
       "      <td>&gt;50K</td>\n",
       "    </tr>\n",
       "    <tr>\n",
       "      <th>4</th>\n",
       "      <td>34</td>\n",
       "      <td>Private</td>\n",
       "      <td>10th</td>\n",
       "      <td>6</td>\n",
       "      <td>Never-married</td>\n",
       "      <td>Other-service</td>\n",
       "      <td>Not-in-family</td>\n",
       "      <td>White</td>\n",
       "      <td>Male</td>\n",
       "      <td>0</td>\n",
       "      <td>0</td>\n",
       "      <td>30</td>\n",
       "      <td>United-States</td>\n",
       "      <td>&lt;=50K</td>\n",
       "    </tr>\n",
       "  </tbody>\n",
       "</table>\n",
       "</div>"
      ],
      "text/plain": [
       "   age   workclass      education  educationno        maritalstatus  \\\n",
       "0   25     Private           11th            7        Never-married   \n",
       "1   38     Private        HS-grad            9   Married-civ-spouse   \n",
       "2   28   Local-gov     Assoc-acdm           12   Married-civ-spouse   \n",
       "3   44     Private   Some-college           10   Married-civ-spouse   \n",
       "4   34     Private           10th            6        Never-married   \n",
       "\n",
       "           occupation    relationship    race    sex  capitalgain  \\\n",
       "0   Machine-op-inspct       Own-child   Black   Male            0   \n",
       "1     Farming-fishing         Husband   White   Male            0   \n",
       "2     Protective-serv         Husband   White   Male            0   \n",
       "3   Machine-op-inspct         Husband   Black   Male         7688   \n",
       "4       Other-service   Not-in-family   White   Male            0   \n",
       "\n",
       "   capitalloss  hoursperweek          native  Salary  \n",
       "0            0            40   United-States   <=50K  \n",
       "1            0            50   United-States   <=50K  \n",
       "2            0            40   United-States    >50K  \n",
       "3            0            40   United-States    >50K  \n",
       "4            0            30   United-States   <=50K  "
      ]
     },
     "execution_count": 51,
     "metadata": {},
     "output_type": "execute_result"
    }
   ],
   "source": [
    "sal_test=pd.read_csv(r\"F:\\Data Science\\Assignments\\Completed\\17. SVM\\SalaryData_Test(1).csv\")\n",
    "sal_test.head()"
   ]
  },
  {
   "cell_type": "code",
   "execution_count": 52,
   "id": "624062c2",
   "metadata": {},
   "outputs": [
    {
     "data": {
      "text/plain": [
       "age              0\n",
       "workclass        0\n",
       "education        0\n",
       "educationno      0\n",
       "maritalstatus    0\n",
       "occupation       0\n",
       "relationship     0\n",
       "race             0\n",
       "sex              0\n",
       "capitalgain      0\n",
       "capitalloss      0\n",
       "hoursperweek     0\n",
       "native           0\n",
       "Salary           0\n",
       "dtype: int64"
      ]
     },
     "execution_count": 52,
     "metadata": {},
     "output_type": "execute_result"
    }
   ],
   "source": [
    "sal_test.isnull().sum()"
   ]
  },
  {
   "cell_type": "markdown",
   "id": "4b8f5c50",
   "metadata": {},
   "source": [
    "### Assigning Dummy Variables"
   ]
  },
  {
   "cell_type": "code",
   "execution_count": 53,
   "id": "897f33a2",
   "metadata": {},
   "outputs": [],
   "source": [
    "le=preprocessing.LabelEncoder()\n",
    "def label_encoding(sal_test):\n",
    "    \n",
    "    for column_name in sal_test.columns:\n",
    "        if sal_test[column_name].dtype == object:\n",
    "            sal_test[column_name] = le.fit_transform(sal_test[column_name])\n",
    "        else:\n",
    "            pass"
   ]
  },
  {
   "cell_type": "code",
   "execution_count": 54,
   "id": "0e1b72fb",
   "metadata": {},
   "outputs": [
    {
     "data": {
      "text/html": [
       "<div>\n",
       "<style scoped>\n",
       "    .dataframe tbody tr th:only-of-type {\n",
       "        vertical-align: middle;\n",
       "    }\n",
       "\n",
       "    .dataframe tbody tr th {\n",
       "        vertical-align: top;\n",
       "    }\n",
       "\n",
       "    .dataframe thead th {\n",
       "        text-align: right;\n",
       "    }\n",
       "</style>\n",
       "<table border=\"1\" class=\"dataframe\">\n",
       "  <thead>\n",
       "    <tr style=\"text-align: right;\">\n",
       "      <th></th>\n",
       "      <th>age</th>\n",
       "      <th>workclass</th>\n",
       "      <th>education</th>\n",
       "      <th>educationno</th>\n",
       "      <th>maritalstatus</th>\n",
       "      <th>occupation</th>\n",
       "      <th>relationship</th>\n",
       "      <th>race</th>\n",
       "      <th>sex</th>\n",
       "      <th>capitalgain</th>\n",
       "      <th>capitalloss</th>\n",
       "      <th>hoursperweek</th>\n",
       "      <th>native</th>\n",
       "      <th>Salary</th>\n",
       "    </tr>\n",
       "  </thead>\n",
       "  <tbody>\n",
       "    <tr>\n",
       "      <th>0</th>\n",
       "      <td>25</td>\n",
       "      <td>2</td>\n",
       "      <td>1</td>\n",
       "      <td>7</td>\n",
       "      <td>4</td>\n",
       "      <td>6</td>\n",
       "      <td>3</td>\n",
       "      <td>2</td>\n",
       "      <td>1</td>\n",
       "      <td>0</td>\n",
       "      <td>0</td>\n",
       "      <td>40</td>\n",
       "      <td>37</td>\n",
       "      <td>0</td>\n",
       "    </tr>\n",
       "    <tr>\n",
       "      <th>1</th>\n",
       "      <td>38</td>\n",
       "      <td>2</td>\n",
       "      <td>11</td>\n",
       "      <td>9</td>\n",
       "      <td>2</td>\n",
       "      <td>4</td>\n",
       "      <td>0</td>\n",
       "      <td>4</td>\n",
       "      <td>1</td>\n",
       "      <td>0</td>\n",
       "      <td>0</td>\n",
       "      <td>50</td>\n",
       "      <td>37</td>\n",
       "      <td>0</td>\n",
       "    </tr>\n",
       "    <tr>\n",
       "      <th>2</th>\n",
       "      <td>28</td>\n",
       "      <td>1</td>\n",
       "      <td>7</td>\n",
       "      <td>12</td>\n",
       "      <td>2</td>\n",
       "      <td>10</td>\n",
       "      <td>0</td>\n",
       "      <td>4</td>\n",
       "      <td>1</td>\n",
       "      <td>0</td>\n",
       "      <td>0</td>\n",
       "      <td>40</td>\n",
       "      <td>37</td>\n",
       "      <td>1</td>\n",
       "    </tr>\n",
       "    <tr>\n",
       "      <th>3</th>\n",
       "      <td>44</td>\n",
       "      <td>2</td>\n",
       "      <td>15</td>\n",
       "      <td>10</td>\n",
       "      <td>2</td>\n",
       "      <td>6</td>\n",
       "      <td>0</td>\n",
       "      <td>2</td>\n",
       "      <td>1</td>\n",
       "      <td>7688</td>\n",
       "      <td>0</td>\n",
       "      <td>40</td>\n",
       "      <td>37</td>\n",
       "      <td>1</td>\n",
       "    </tr>\n",
       "    <tr>\n",
       "      <th>4</th>\n",
       "      <td>34</td>\n",
       "      <td>2</td>\n",
       "      <td>0</td>\n",
       "      <td>6</td>\n",
       "      <td>4</td>\n",
       "      <td>7</td>\n",
       "      <td>1</td>\n",
       "      <td>4</td>\n",
       "      <td>1</td>\n",
       "      <td>0</td>\n",
       "      <td>0</td>\n",
       "      <td>30</td>\n",
       "      <td>37</td>\n",
       "      <td>0</td>\n",
       "    </tr>\n",
       "    <tr>\n",
       "      <th>...</th>\n",
       "      <td>...</td>\n",
       "      <td>...</td>\n",
       "      <td>...</td>\n",
       "      <td>...</td>\n",
       "      <td>...</td>\n",
       "      <td>...</td>\n",
       "      <td>...</td>\n",
       "      <td>...</td>\n",
       "      <td>...</td>\n",
       "      <td>...</td>\n",
       "      <td>...</td>\n",
       "      <td>...</td>\n",
       "      <td>...</td>\n",
       "      <td>...</td>\n",
       "    </tr>\n",
       "    <tr>\n",
       "      <th>15055</th>\n",
       "      <td>33</td>\n",
       "      <td>2</td>\n",
       "      <td>9</td>\n",
       "      <td>13</td>\n",
       "      <td>4</td>\n",
       "      <td>9</td>\n",
       "      <td>3</td>\n",
       "      <td>4</td>\n",
       "      <td>1</td>\n",
       "      <td>0</td>\n",
       "      <td>0</td>\n",
       "      <td>40</td>\n",
       "      <td>37</td>\n",
       "      <td>0</td>\n",
       "    </tr>\n",
       "    <tr>\n",
       "      <th>15056</th>\n",
       "      <td>39</td>\n",
       "      <td>2</td>\n",
       "      <td>9</td>\n",
       "      <td>13</td>\n",
       "      <td>0</td>\n",
       "      <td>9</td>\n",
       "      <td>1</td>\n",
       "      <td>4</td>\n",
       "      <td>0</td>\n",
       "      <td>0</td>\n",
       "      <td>0</td>\n",
       "      <td>36</td>\n",
       "      <td>37</td>\n",
       "      <td>0</td>\n",
       "    </tr>\n",
       "    <tr>\n",
       "      <th>15057</th>\n",
       "      <td>38</td>\n",
       "      <td>2</td>\n",
       "      <td>9</td>\n",
       "      <td>13</td>\n",
       "      <td>2</td>\n",
       "      <td>9</td>\n",
       "      <td>0</td>\n",
       "      <td>4</td>\n",
       "      <td>1</td>\n",
       "      <td>0</td>\n",
       "      <td>0</td>\n",
       "      <td>50</td>\n",
       "      <td>37</td>\n",
       "      <td>0</td>\n",
       "    </tr>\n",
       "    <tr>\n",
       "      <th>15058</th>\n",
       "      <td>44</td>\n",
       "      <td>2</td>\n",
       "      <td>9</td>\n",
       "      <td>13</td>\n",
       "      <td>0</td>\n",
       "      <td>0</td>\n",
       "      <td>3</td>\n",
       "      <td>1</td>\n",
       "      <td>1</td>\n",
       "      <td>5455</td>\n",
       "      <td>0</td>\n",
       "      <td>40</td>\n",
       "      <td>37</td>\n",
       "      <td>0</td>\n",
       "    </tr>\n",
       "    <tr>\n",
       "      <th>15059</th>\n",
       "      <td>35</td>\n",
       "      <td>3</td>\n",
       "      <td>9</td>\n",
       "      <td>13</td>\n",
       "      <td>2</td>\n",
       "      <td>3</td>\n",
       "      <td>0</td>\n",
       "      <td>4</td>\n",
       "      <td>1</td>\n",
       "      <td>0</td>\n",
       "      <td>0</td>\n",
       "      <td>60</td>\n",
       "      <td>37</td>\n",
       "      <td>1</td>\n",
       "    </tr>\n",
       "  </tbody>\n",
       "</table>\n",
       "<p>15060 rows × 14 columns</p>\n",
       "</div>"
      ],
      "text/plain": [
       "       age  workclass  education  educationno  maritalstatus  occupation  \\\n",
       "0       25          2          1            7              4           6   \n",
       "1       38          2         11            9              2           4   \n",
       "2       28          1          7           12              2          10   \n",
       "3       44          2         15           10              2           6   \n",
       "4       34          2          0            6              4           7   \n",
       "...    ...        ...        ...          ...            ...         ...   \n",
       "15055   33          2          9           13              4           9   \n",
       "15056   39          2          9           13              0           9   \n",
       "15057   38          2          9           13              2           9   \n",
       "15058   44          2          9           13              0           0   \n",
       "15059   35          3          9           13              2           3   \n",
       "\n",
       "       relationship  race  sex  capitalgain  capitalloss  hoursperweek  \\\n",
       "0                 3     2    1            0            0            40   \n",
       "1                 0     4    1            0            0            50   \n",
       "2                 0     4    1            0            0            40   \n",
       "3                 0     2    1         7688            0            40   \n",
       "4                 1     4    1            0            0            30   \n",
       "...             ...   ...  ...          ...          ...           ...   \n",
       "15055             3     4    1            0            0            40   \n",
       "15056             1     4    0            0            0            36   \n",
       "15057             0     4    1            0            0            50   \n",
       "15058             3     1    1         5455            0            40   \n",
       "15059             0     4    1            0            0            60   \n",
       "\n",
       "       native  Salary  \n",
       "0          37       0  \n",
       "1          37       0  \n",
       "2          37       1  \n",
       "3          37       1  \n",
       "4          37       0  \n",
       "...       ...     ...  \n",
       "15055      37       0  \n",
       "15056      37       0  \n",
       "15057      37       0  \n",
       "15058      37       0  \n",
       "15059      37       1  \n",
       "\n",
       "[15060 rows x 14 columns]"
      ]
     },
     "execution_count": 54,
     "metadata": {},
     "output_type": "execute_result"
    }
   ],
   "source": [
    "label_encoding(sal_test)\n",
    "sal_test"
   ]
  },
  {
   "cell_type": "code",
   "execution_count": 55,
   "id": "f15a32f4",
   "metadata": {},
   "outputs": [
    {
     "name": "stdout",
     "output_type": "stream",
     "text": [
      "<class 'pandas.core.frame.DataFrame'>\n",
      "RangeIndex: 15060 entries, 0 to 15059\n",
      "Data columns (total 14 columns):\n",
      " #   Column         Non-Null Count  Dtype\n",
      "---  ------         --------------  -----\n",
      " 0   age            15060 non-null  int64\n",
      " 1   workclass      15060 non-null  int32\n",
      " 2   education      15060 non-null  int32\n",
      " 3   educationno    15060 non-null  int64\n",
      " 4   maritalstatus  15060 non-null  int32\n",
      " 5   occupation     15060 non-null  int32\n",
      " 6   relationship   15060 non-null  int32\n",
      " 7   race           15060 non-null  int32\n",
      " 8   sex            15060 non-null  int32\n",
      " 9   capitalgain    15060 non-null  int64\n",
      " 10  capitalloss    15060 non-null  int64\n",
      " 11  hoursperweek   15060 non-null  int64\n",
      " 12  native         15060 non-null  int32\n",
      " 13  Salary         15060 non-null  int32\n",
      "dtypes: int32(9), int64(5)\n",
      "memory usage: 1.1 MB\n"
     ]
    }
   ],
   "source": [
    "sal_test.info()"
   ]
  },
  {
   "cell_type": "code",
   "execution_count": 64,
   "id": "873a3b3a",
   "metadata": {},
   "outputs": [
    {
     "data": {
      "text/plain": [
       "array([[-1.02900513, -0.222347  , -2.42343884, ..., -0.2191694 ,\n",
       "        -0.07888904,  0.26058067],\n",
       "       [-0.05742253, -0.222347  ,  0.19017232, ..., -0.2191694 ,\n",
       "         0.75013125,  0.26058067],\n",
       "       [-0.80479376, -1.25712632, -0.85527215, ..., -0.2191694 ,\n",
       "        -0.07888904,  0.26058067],\n",
       "       ...,\n",
       "       [-0.05742253, -0.222347  , -0.33254991, ..., -0.2191694 ,\n",
       "         0.75013125,  0.26058067],\n",
       "       [ 0.39100021, -0.222347  , -0.33254991, ..., -0.2191694 ,\n",
       "        -0.07888904,  0.26058067],\n",
       "       [-0.2816339 ,  0.81243231, -0.33254991, ..., -0.2191694 ,\n",
       "         1.57915155,  0.26058067]])"
      ]
     },
     "execution_count": 64,
     "metadata": {},
     "output_type": "execute_result"
    }
   ],
   "source": [
    "# applying standardization\n",
    "scaler=StandardScaler()\n",
    "sal_test_std=scaler.fit_transform(sal_test.drop(['Salary'],axis=1))\n",
    "sal_test_std"
   ]
  },
  {
   "cell_type": "markdown",
   "id": "831a2ad5",
   "metadata": {},
   "source": [
    "### Assigning X & Y."
   ]
  },
  {
   "cell_type": "code",
   "execution_count": 65,
   "id": "4f727ee3",
   "metadata": {},
   "outputs": [],
   "source": [
    "x=sal_test_std\n",
    "y=sal_test['Salary'].values"
   ]
  },
  {
   "cell_type": "code",
   "execution_count": 66,
   "id": "50f6740b",
   "metadata": {},
   "outputs": [],
   "source": [
    "sm=SMOTEENN(random_state=1)\n",
    "x_resamp,y_resamp=sm.fit_resample(x,y)"
   ]
  },
  {
   "cell_type": "markdown",
   "id": "7bb4873a",
   "metadata": {},
   "source": [
    "### Predicting on test data"
   ]
  },
  {
   "cell_type": "code",
   "execution_count": 67,
   "id": "593c49d5",
   "metadata": {},
   "outputs": [
    {
     "data": {
      "text/plain": [
       "0.929262210327839"
      ]
     },
     "execution_count": 67,
     "metadata": {},
     "output_type": "execute_result"
    }
   ],
   "source": [
    "y_pred_new = model.predict(x_resamp)\n",
    "accuracy_test_new= np.mean(y_pred_new== y_resamp)\n",
    "accuracy_test_new"
   ]
  },
  {
   "cell_type": "code",
   "execution_count": 68,
   "id": "e4b8e6f7",
   "metadata": {},
   "outputs": [
    {
     "name": "stdout",
     "output_type": "stream",
     "text": [
      "              precision    recall  f1-score   support\n",
      "\n",
      "           0       0.93      0.92      0.93      7953\n",
      "           1       0.93      0.93      0.93      8488\n",
      "\n",
      "    accuracy                           0.93     16441\n",
      "   macro avg       0.93      0.93      0.93     16441\n",
      "weighted avg       0.93      0.93      0.93     16441\n",
      "\n"
     ]
    }
   ],
   "source": [
    "print(classification_report(y_resamp,y_pred_new))"
   ]
  },
  {
   "cell_type": "code",
   "execution_count": 69,
   "id": "faa5e79d",
   "metadata": {},
   "outputs": [
    {
     "data": {
      "text/html": [
       "<div>\n",
       "<style scoped>\n",
       "    .dataframe tbody tr th:only-of-type {\n",
       "        vertical-align: middle;\n",
       "    }\n",
       "\n",
       "    .dataframe tbody tr th {\n",
       "        vertical-align: top;\n",
       "    }\n",
       "\n",
       "    .dataframe thead th {\n",
       "        text-align: right;\n",
       "    }\n",
       "</style>\n",
       "<table border=\"1\" class=\"dataframe\">\n",
       "  <thead>\n",
       "    <tr style=\"text-align: right;\">\n",
       "      <th></th>\n",
       "      <th>actual</th>\n",
       "      <th>Prediction</th>\n",
       "      <th>Correct</th>\n",
       "    </tr>\n",
       "  </thead>\n",
       "  <tbody>\n",
       "    <tr>\n",
       "      <th>0</th>\n",
       "      <td>0</td>\n",
       "      <td>0</td>\n",
       "      <td>True</td>\n",
       "    </tr>\n",
       "    <tr>\n",
       "      <th>1</th>\n",
       "      <td>0</td>\n",
       "      <td>0</td>\n",
       "      <td>True</td>\n",
       "    </tr>\n",
       "    <tr>\n",
       "      <th>2</th>\n",
       "      <td>0</td>\n",
       "      <td>0</td>\n",
       "      <td>True</td>\n",
       "    </tr>\n",
       "    <tr>\n",
       "      <th>3</th>\n",
       "      <td>0</td>\n",
       "      <td>0</td>\n",
       "      <td>True</td>\n",
       "    </tr>\n",
       "    <tr>\n",
       "      <th>4</th>\n",
       "      <td>0</td>\n",
       "      <td>0</td>\n",
       "      <td>True</td>\n",
       "    </tr>\n",
       "    <tr>\n",
       "      <th>...</th>\n",
       "      <td>...</td>\n",
       "      <td>...</td>\n",
       "      <td>...</td>\n",
       "    </tr>\n",
       "    <tr>\n",
       "      <th>16436</th>\n",
       "      <td>1</td>\n",
       "      <td>1</td>\n",
       "      <td>True</td>\n",
       "    </tr>\n",
       "    <tr>\n",
       "      <th>16437</th>\n",
       "      <td>1</td>\n",
       "      <td>1</td>\n",
       "      <td>True</td>\n",
       "    </tr>\n",
       "    <tr>\n",
       "      <th>16438</th>\n",
       "      <td>1</td>\n",
       "      <td>1</td>\n",
       "      <td>True</td>\n",
       "    </tr>\n",
       "    <tr>\n",
       "      <th>16439</th>\n",
       "      <td>1</td>\n",
       "      <td>1</td>\n",
       "      <td>True</td>\n",
       "    </tr>\n",
       "    <tr>\n",
       "      <th>16440</th>\n",
       "      <td>1</td>\n",
       "      <td>1</td>\n",
       "      <td>True</td>\n",
       "    </tr>\n",
       "  </tbody>\n",
       "</table>\n",
       "<p>16441 rows × 3 columns</p>\n",
       "</div>"
      ],
      "text/plain": [
       "       actual  Prediction  Correct\n",
       "0           0           0     True\n",
       "1           0           0     True\n",
       "2           0           0     True\n",
       "3           0           0     True\n",
       "4           0           0     True\n",
       "...       ...         ...      ...\n",
       "16436       1           1     True\n",
       "16437       1           1     True\n",
       "16438       1           1     True\n",
       "16439       1           1     True\n",
       "16440       1           1     True\n",
       "\n",
       "[16441 rows x 3 columns]"
      ]
     },
     "metadata": {},
     "output_type": "display_data"
    }
   ],
   "source": [
    "y_pred_df=pd.DataFrame({'actual':y_resamp,'Prediction':y_pred_new})\n",
    "y_pred_df['Correct']=y_pred_df['actual']==y_pred_df['Prediction']\n",
    "display(y_pred_df)"
   ]
  },
  {
   "cell_type": "code",
   "execution_count": 70,
   "id": "05ee84b4",
   "metadata": {},
   "outputs": [
    {
     "data": {
      "text/plain": [
       "True     15278\n",
       "False     1163\n",
       "Name: Correct, dtype: int64"
      ]
     },
     "execution_count": 70,
     "metadata": {},
     "output_type": "execute_result"
    }
   ],
   "source": [
    "y_pred_df['Correct'].value_counts()"
   ]
  },
  {
   "cell_type": "code",
   "execution_count": 71,
   "id": "dc4c4c87",
   "metadata": {},
   "outputs": [
    {
     "data": {
      "text/html": [
       "<div>\n",
       "<style scoped>\n",
       "    .dataframe tbody tr th:only-of-type {\n",
       "        vertical-align: middle;\n",
       "    }\n",
       "\n",
       "    .dataframe tbody tr th {\n",
       "        vertical-align: top;\n",
       "    }\n",
       "\n",
       "    .dataframe thead th {\n",
       "        text-align: right;\n",
       "    }\n",
       "</style>\n",
       "<table border=\"1\" class=\"dataframe\">\n",
       "  <thead>\n",
       "    <tr style=\"text-align: right;\">\n",
       "      <th></th>\n",
       "      <th>actual</th>\n",
       "      <th>Prediction</th>\n",
       "      <th>Correct</th>\n",
       "    </tr>\n",
       "  </thead>\n",
       "  <tbody>\n",
       "    <tr>\n",
       "      <th>20</th>\n",
       "      <td>0</td>\n",
       "      <td>1</td>\n",
       "      <td>False</td>\n",
       "    </tr>\n",
       "    <tr>\n",
       "      <th>58</th>\n",
       "      <td>0</td>\n",
       "      <td>1</td>\n",
       "      <td>False</td>\n",
       "    </tr>\n",
       "    <tr>\n",
       "      <th>71</th>\n",
       "      <td>0</td>\n",
       "      <td>1</td>\n",
       "      <td>False</td>\n",
       "    </tr>\n",
       "    <tr>\n",
       "      <th>87</th>\n",
       "      <td>0</td>\n",
       "      <td>1</td>\n",
       "      <td>False</td>\n",
       "    </tr>\n",
       "    <tr>\n",
       "      <th>100</th>\n",
       "      <td>0</td>\n",
       "      <td>1</td>\n",
       "      <td>False</td>\n",
       "    </tr>\n",
       "    <tr>\n",
       "      <th>...</th>\n",
       "      <td>...</td>\n",
       "      <td>...</td>\n",
       "      <td>...</td>\n",
       "    </tr>\n",
       "    <tr>\n",
       "      <th>16335</th>\n",
       "      <td>1</td>\n",
       "      <td>0</td>\n",
       "      <td>False</td>\n",
       "    </tr>\n",
       "    <tr>\n",
       "      <th>16345</th>\n",
       "      <td>1</td>\n",
       "      <td>0</td>\n",
       "      <td>False</td>\n",
       "    </tr>\n",
       "    <tr>\n",
       "      <th>16346</th>\n",
       "      <td>1</td>\n",
       "      <td>0</td>\n",
       "      <td>False</td>\n",
       "    </tr>\n",
       "    <tr>\n",
       "      <th>16385</th>\n",
       "      <td>1</td>\n",
       "      <td>0</td>\n",
       "      <td>False</td>\n",
       "    </tr>\n",
       "    <tr>\n",
       "      <th>16431</th>\n",
       "      <td>1</td>\n",
       "      <td>0</td>\n",
       "      <td>False</td>\n",
       "    </tr>\n",
       "  </tbody>\n",
       "</table>\n",
       "<p>1163 rows × 3 columns</p>\n",
       "</div>"
      ],
      "text/plain": [
       "       actual  Prediction  Correct\n",
       "20          0           1    False\n",
       "58          0           1    False\n",
       "71          0           1    False\n",
       "87          0           1    False\n",
       "100         0           1    False\n",
       "...       ...         ...      ...\n",
       "16335       1           0    False\n",
       "16345       1           0    False\n",
       "16346       1           0    False\n",
       "16385       1           0    False\n",
       "16431       1           0    False\n",
       "\n",
       "[1163 rows x 3 columns]"
      ]
     },
     "execution_count": 71,
     "metadata": {},
     "output_type": "execute_result"
    }
   ],
   "source": [
    "y_pred_df[y_pred_df['Correct']==False]"
   ]
  },
  {
   "cell_type": "code",
   "execution_count": null,
   "id": "8aa26a3c",
   "metadata": {},
   "outputs": [],
   "source": []
  }
 ],
 "metadata": {
  "kernelspec": {
   "display_name": "Python 3 (ipykernel)",
   "language": "python",
   "name": "python3"
  },
  "language_info": {
   "codemirror_mode": {
    "name": "ipython",
    "version": 3
   },
   "file_extension": ".py",
   "mimetype": "text/x-python",
   "name": "python",
   "nbconvert_exporter": "python",
   "pygments_lexer": "ipython3",
   "version": "3.10.9"
  }
 },
 "nbformat": 4,
 "nbformat_minor": 5
}
