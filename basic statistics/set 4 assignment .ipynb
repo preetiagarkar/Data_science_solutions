{
 "cells": [
  {
   "cell_type": "markdown",
   "id": "4cc7c173",
   "metadata": {},
   "source": [
    "#### problem 3"
   ]
  },
  {
   "cell_type": "code",
   "execution_count": 15,
   "id": "92cdd460",
   "metadata": {},
   "outputs": [
    {
     "name": "stdout",
     "output_type": "stream",
     "text": [
      "-1.25\n",
      "1.25\n",
      "21.129954733371072\n",
      "The probability of an investigation in any given week is: 21.13%\n"
     ]
    }
   ],
   "source": [
    "import scipy.stats as stats\n",
    "\n",
    "# Population parameters\n",
    "population_mean = 50\n",
    "population_std = 40\n",
    "\n",
    "# Sample size\n",
    "sample_size = 100\n",
    "\n",
    "# Desired range for investigation\n",
    "lower_limit = 45\n",
    "upper_limit = 55\n",
    "\n",
    "# Calculate standard error\n",
    "standard_error = population_std / (sample_size ** 0.5)\n",
    "\n",
    "\n",
    "# Calculate z-scores\n",
    "z_lower = (lower_limit - population_mean) / standard_error\n",
    "z_upper = (upper_limit - population_mean) / standard_error\n",
    "print (z_lower)\n",
    "print (z_upper)\n",
    "# Calculate the probability of investigation\n",
    "probability_investigation = (1 - stats.norm.cdf(z_upper)) + stats.norm.cdf(z_lower)\n",
    "\n",
    "# Convert the probability to a percentage\n",
    "probability_investigation *= 100\n",
    "print(probability_investigation)\n",
    "print(\"The probability of an investigation in any given week is: {:.2f}%\".format(probability_investigation))\n"
   ]
  },
  {
   "cell_type": "code",
   "execution_count": null,
   "id": "c7e8c558",
   "metadata": {},
   "outputs": [],
   "source": []
  },
  {
   "cell_type": "code",
   "execution_count": null,
   "id": "02900ca9",
   "metadata": {},
   "outputs": [],
   "source": []
  },
  {
   "cell_type": "code",
   "execution_count": null,
   "id": "18c0643f",
   "metadata": {},
   "outputs": [],
   "source": []
  },
  {
   "cell_type": "code",
   "execution_count": null,
   "id": "3b76648d",
   "metadata": {},
   "outputs": [],
   "source": []
  },
  {
   "cell_type": "code",
   "execution_count": null,
   "id": "4614d657",
   "metadata": {},
   "outputs": [],
   "source": []
  },
  {
   "cell_type": "code",
   "execution_count": null,
   "id": "58c7b409",
   "metadata": {},
   "outputs": [],
   "source": []
  },
  {
   "cell_type": "code",
   "execution_count": null,
   "id": "918915d5",
   "metadata": {},
   "outputs": [],
   "source": []
  }
 ],
 "metadata": {
  "kernelspec": {
   "display_name": "Python 3 (ipykernel)",
   "language": "python",
   "name": "python3"
  },
  "language_info": {
   "codemirror_mode": {
    "name": "ipython",
    "version": 3
   },
   "file_extension": ".py",
   "mimetype": "text/x-python",
   "name": "python",
   "nbconvert_exporter": "python",
   "pygments_lexer": "ipython3",
   "version": "3.10.9"
  }
 },
 "nbformat": 4,
 "nbformat_minor": 5
}
