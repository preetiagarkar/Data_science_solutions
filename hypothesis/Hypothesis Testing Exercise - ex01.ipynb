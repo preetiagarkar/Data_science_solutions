{
 "cells": [
  {
   "cell_type": "code",
   "execution_count": 3,
   "id": "efc570ab",
   "metadata": {},
   "outputs": [],
   "source": [
    "import pandas as pd\n",
    "import scipy \n",
    "import numpy as np \n",
    "from scipy import stats\n",
    "from scipy.stats import f_oneway\n",
    "from scipy.stats import chi2_contingency \n",
    "import collections\n",
    "from collections import Counter"
   ]
  },
  {
   "cell_type": "markdown",
   "id": "0f6aa82a",
   "metadata": {},
   "source": [
    "### problem1"
   ]
  },
  {
   "cell_type": "code",
   "execution_count": 12,
   "id": "f2f35175",
   "metadata": {},
   "outputs": [],
   "source": [
    "cutlet_data = pd.read_csv(\"C:/Users/DELL/Downloads/assignment/hypothesis assignment/Cutlets.csv\") ##read data "
   ]
  },
  {
   "cell_type": "code",
   "execution_count": 15,
   "id": "e326bf11",
   "metadata": {},
   "outputs": [],
   "source": [
    "unit_a_array= cutlet_data[\"Unit A\"].values    ## fetch data from excel and convert to array \n",
    "unit_b_array= cutlet_data[\"Unit B\"].values "
   ]
  },
  {
   "cell_type": "code",
   "execution_count": 20,
   "id": "200fb028",
   "metadata": {},
   "outputs": [
    {
     "name": "stdout",
     "output_type": "stream",
     "text": [
      "[6.809  6.4376 6.9157 7.3012 7.4488 7.3871 6.8755 7.0621 6.684  6.8236\n",
      " 7.393  7.5169 6.9246 6.9256 6.5797 6.8394 6.597  7.2705 7.2828 7.3495\n",
      " 6.9438 7.156  6.5341 7.2854 6.9952 6.8568 7.2163 6.6801 6.9431 7.0852\n",
      " 6.7794 7.2783 7.1561 7.3943 6.9405]\n",
      "[6.7703 7.5093 6.73   6.7878 7.1522 6.811  7.2212 6.6606 7.2402 7.0503\n",
      " 6.881  7.4059 6.7652 6.038  7.1581 7.024  6.6672 7.4314 7.307  6.7478\n",
      " 6.8889 7.422  6.5217 7.1688 6.7594 6.9399 7.0133 6.9182 6.3346 7.5459\n",
      " 7.0992 7.118  6.6965 6.578  7.3875]\n"
     ]
    }
   ],
   "source": [
    "print(unit_a_array)\n",
    "print(unit_b_array)"
   ]
  },
  {
   "cell_type": "code",
   "execution_count": 34,
   "id": "cd101abb",
   "metadata": {},
   "outputs": [],
   "source": [
    "\n",
    "t_stat,p_value= scipy.stats.ttest_ind(unit_a_array,unit_b_array)\n",
    "## we are checking mean diam of unit a = unit b  if they  are equal accept Ho otherwise reject "
   ]
  },
  {
   "cell_type": "code",
   "execution_count": 35,
   "id": "5992dc0d",
   "metadata": {},
   "outputs": [
    {
     "name": "stdout",
     "output_type": "stream",
     "text": [
      "Test Statistic: 0.7228688704678063\n",
      "p-value: 0.4722394724599501\n"
     ]
    }
   ],
   "source": [
    "print(\"Test Statistic:\", t_stat)\n",
    "print(\"p-value:\", p_value)"
   ]
  },
  {
   "cell_type": "code",
   "execution_count": 36,
   "id": "f4c4e6ea",
   "metadata": {},
   "outputs": [
    {
     "name": "stdout",
     "output_type": "stream",
     "text": [
      "accpet the null hypothesis as there is no change in both unit diameter\n"
     ]
    }
   ],
   "source": [
    "aplha= 0.05\n",
    "if p_value > aplha:\n",
    "    print(\"accpet the null hypothesis as there is no change in both unit diameter\")\n",
    "else:\n",
    "    print (\"reject the null hypothesis as there is change in both unit diameter \")"
   ]
  },
  {
   "cell_type": "markdown",
   "id": "6a88c0ae",
   "metadata": {},
   "source": [
    "# problem 2"
   ]
  },
  {
   "cell_type": "code",
   "execution_count": 10,
   "id": "d8819579",
   "metadata": {},
   "outputs": [],
   "source": [
    "lab_data = pd.read_csv(\"C:/Users/DELL/Downloads/assignment/hypothesis assignment/labTaT.csv\")"
   ]
  },
  {
   "cell_type": "code",
   "execution_count": 11,
   "id": "ac1879b3",
   "metadata": {},
   "outputs": [],
   "source": [
    "lab_1 = lab_data[\"Laboratory 1\"].values\n",
    "lab_2 = lab_data[\"Laboratory 2\"].values\n",
    "lab_3 = lab_data[\"Laboratory 3\"].values\n",
    "lab_4 = lab_data[\"Laboratory 4\"].values\n"
   ]
  },
  {
   "cell_type": "code",
   "execution_count": 13,
   "id": "cc884369",
   "metadata": {},
   "outputs": [],
   "source": [
    "#analysis of more than 4 parameters \n",
    "f_stats,p_value = f_oneway(lab_1,lab_2,lab_3,lab_4)"
   ]
  },
  {
   "cell_type": "code",
   "execution_count": 15,
   "id": "fc7ecccb",
   "metadata": {},
   "outputs": [
    {
     "name": "stdout",
     "output_type": "stream",
     "text": [
      "f_statsvalue: 118.70421654401437\n",
      "p_value: 2.1156708949992414e-57\n"
     ]
    }
   ],
   "source": [
    "print(\"f_statsvalue:\",f_stats)\n",
    "print(\"p_value:\",p_value)"
   ]
  },
  {
   "cell_type": "code",
   "execution_count": 47,
   "id": "2517f00b",
   "metadata": {},
   "outputs": [
    {
     "name": "stdout",
     "output_type": "stream",
     "text": [
      "reject null hypothesis TAT time is change for labs listed on preferred list \n"
     ]
    }
   ],
   "source": [
    "alpha=0.05\n",
    "if p_value>0.05:\n",
    "    print(\"accpet null hypothesis as TAT time is not differant for labs listed on preferred list\")\n",
    "else:\n",
    "    print(\"reject null hypothesis TAT time is change for labs listed on preferred list \")"
   ]
  },
  {
   "cell_type": "markdown",
   "id": "85a538ef",
   "metadata": {},
   "source": [
    "# problem 3"
   ]
  },
  {
   "cell_type": "code",
   "execution_count": 24,
   "id": "03ea52af",
   "metadata": {},
   "outputs": [],
   "source": [
    "buyer_ratio=pd.read_csv(\"C:/Users/DELL/Downloads/assignment/hypothesis assignment/BuyerRatio.csv\")\n",
    "observed_values=buyer_ratio.to_numpy()\n",
    "print(observed_values)"
   ]
  },
  {
   "cell_type": "code",
   "execution_count": 33,
   "id": "867cc0c1",
   "metadata": {},
   "outputs": [
    {
     "name": "stdout",
     "output_type": "stream",
     "text": [
      "chi2_stat_value: 1.595945538661058\n",
      "p_value: 0.6603094907091882\n",
      "accpet the null hypothesis as the their is no change in ratio i.e male female ratio are same acrross region\n"
     ]
    }
   ],
   "source": [
    "chi2_stat, p_value, dof, expected = chi2_contingency(observed_values)\n",
    "print(\"chi2_stat_value:\",chi2_stat)\n",
    "print(\"p_value:\",p_value )\n",
    "alpha = 0.05\n",
    "if p_value > 0.05 :\n",
    "    print(\"accpet the null hypothesis as the their is no change in ratio i.e male female ratio are same acrross region\")\n",
    "else:\n",
    "    print(\"reject null hyothesis , as the ratio's are not same in all regions\")"
   ]
  },
  {
   "cell_type": "markdown",
   "id": "ddc11647",
   "metadata": {},
   "source": [
    "# problem 4"
   ]
  },
  {
   "cell_type": "code",
   "execution_count": 75,
   "id": "d7478b9c",
   "metadata": {},
   "outputs": [
    {
     "data": {
      "text/html": [
       "<div>\n",
       "<style scoped>\n",
       "    .dataframe tbody tr th:only-of-type {\n",
       "        vertical-align: middle;\n",
       "    }\n",
       "\n",
       "    .dataframe tbody tr th {\n",
       "        vertical-align: top;\n",
       "    }\n",
       "\n",
       "    .dataframe thead th {\n",
       "        text-align: right;\n",
       "    }\n",
       "</style>\n",
       "<table border=\"1\" class=\"dataframe\">\n",
       "  <thead>\n",
       "    <tr style=\"text-align: right;\">\n",
       "      <th></th>\n",
       "      <th>Phillippines</th>\n",
       "      <th>Indonesia</th>\n",
       "      <th>Malta</th>\n",
       "      <th>India</th>\n",
       "    </tr>\n",
       "  </thead>\n",
       "  <tbody>\n",
       "    <tr>\n",
       "      <th>0</th>\n",
       "      <td>Error Free</td>\n",
       "      <td>Error Free</td>\n",
       "      <td>Defective</td>\n",
       "      <td>Error Free</td>\n",
       "    </tr>\n",
       "    <tr>\n",
       "      <th>1</th>\n",
       "      <td>Error Free</td>\n",
       "      <td>Error Free</td>\n",
       "      <td>Error Free</td>\n",
       "      <td>Defective</td>\n",
       "    </tr>\n",
       "    <tr>\n",
       "      <th>2</th>\n",
       "      <td>Error Free</td>\n",
       "      <td>Defective</td>\n",
       "      <td>Defective</td>\n",
       "      <td>Error Free</td>\n",
       "    </tr>\n",
       "    <tr>\n",
       "      <th>3</th>\n",
       "      <td>Error Free</td>\n",
       "      <td>Error Free</td>\n",
       "      <td>Error Free</td>\n",
       "      <td>Error Free</td>\n",
       "    </tr>\n",
       "    <tr>\n",
       "      <th>4</th>\n",
       "      <td>Error Free</td>\n",
       "      <td>Error Free</td>\n",
       "      <td>Defective</td>\n",
       "      <td>Error Free</td>\n",
       "    </tr>\n",
       "  </tbody>\n",
       "</table>\n",
       "</div>"
      ],
      "text/plain": [
       "  Phillippines   Indonesia       Malta       India\n",
       "0   Error Free  Error Free   Defective  Error Free\n",
       "1   Error Free  Error Free  Error Free   Defective\n",
       "2   Error Free   Defective   Defective  Error Free\n",
       "3   Error Free  Error Free  Error Free  Error Free\n",
       "4   Error Free  Error Free   Defective  Error Free"
      ]
     },
     "execution_count": 75,
     "metadata": {},
     "output_type": "execute_result"
    }
   ],
   "source": [
    "\n",
    "customer_order_form = pd.read_csv(\"C:/Users/DELL/Downloads/assignment/hypothesis assignment/Costomer+OrderForm.csv\")\n",
    "\n",
    "customer_order_form.head()"
   ]
  },
  {
   "cell_type": "code",
   "execution_count": 76,
   "id": "eb70196a",
   "metadata": {},
   "outputs": [
    {
     "data": {
      "text/html": [
       "<div>\n",
       "<style scoped>\n",
       "    .dataframe tbody tr th:only-of-type {\n",
       "        vertical-align: middle;\n",
       "    }\n",
       "\n",
       "    .dataframe tbody tr th {\n",
       "        vertical-align: top;\n",
       "    }\n",
       "\n",
       "    .dataframe thead th {\n",
       "        text-align: right;\n",
       "    }\n",
       "</style>\n",
       "<table border=\"1\" class=\"dataframe\">\n",
       "  <thead>\n",
       "    <tr style=\"text-align: right;\">\n",
       "      <th></th>\n",
       "      <th>Phillippines</th>\n",
       "      <th>Indonesia</th>\n",
       "      <th>Malta</th>\n",
       "      <th>India</th>\n",
       "    </tr>\n",
       "  </thead>\n",
       "  <tbody>\n",
       "    <tr>\n",
       "      <th>count</th>\n",
       "      <td>300</td>\n",
       "      <td>300</td>\n",
       "      <td>300</td>\n",
       "      <td>300</td>\n",
       "    </tr>\n",
       "    <tr>\n",
       "      <th>unique</th>\n",
       "      <td>2</td>\n",
       "      <td>2</td>\n",
       "      <td>2</td>\n",
       "      <td>2</td>\n",
       "    </tr>\n",
       "    <tr>\n",
       "      <th>top</th>\n",
       "      <td>Error Free</td>\n",
       "      <td>Error Free</td>\n",
       "      <td>Error Free</td>\n",
       "      <td>Error Free</td>\n",
       "    </tr>\n",
       "    <tr>\n",
       "      <th>freq</th>\n",
       "      <td>271</td>\n",
       "      <td>267</td>\n",
       "      <td>269</td>\n",
       "      <td>280</td>\n",
       "    </tr>\n",
       "  </tbody>\n",
       "</table>\n",
       "</div>"
      ],
      "text/plain": [
       "       Phillippines   Indonesia       Malta       India\n",
       "count           300         300         300         300\n",
       "unique            2           2           2           2\n",
       "top      Error Free  Error Free  Error Free  Error Free\n",
       "freq            271         267         269         280"
      ]
     },
     "execution_count": 76,
     "metadata": {},
     "output_type": "execute_result"
    }
   ],
   "source": [
    "customer_order_form.describe()"
   ]
  },
  {
   "cell_type": "code",
   "execution_count": 77,
   "id": "9a173e74",
   "metadata": {},
   "outputs": [
    {
     "data": {
      "text/plain": [
       "Phillippines    0\n",
       "Indonesia       0\n",
       "Malta           0\n",
       "India           0\n",
       "dtype: int64"
      ]
     },
     "execution_count": 77,
     "metadata": {},
     "output_type": "execute_result"
    }
   ],
   "source": [
    "customer_order_form.isnull().sum()"
   ]
  },
  {
   "cell_type": "code",
   "execution_count": 86,
   "id": "d43d2c90",
   "metadata": {},
   "outputs": [],
   "source": [
    "missing_rows=customer_order_form.isnull().any(axis=1)"
   ]
  },
  {
   "cell_type": "code",
   "execution_count": 88,
   "id": "6ff74132",
   "metadata": {},
   "outputs": [],
   "source": [
    "filtered_order=customer_order_form[missing_rows]"
   ]
  },
  {
   "cell_type": "code",
   "execution_count": 89,
   "id": "bd3a8066",
   "metadata": {},
   "outputs": [
    {
     "name": "stdout",
     "output_type": "stream",
     "text": [
      "Empty DataFrame\n",
      "Columns: [Phillippines, Indonesia, Malta, India]\n",
      "Index: []\n"
     ]
    }
   ],
   "source": [
    "print(filtered_order)"
   ]
  },
  {
   "cell_type": "code",
   "execution_count": 90,
   "id": "66894834",
   "metadata": {},
   "outputs": [
    {
     "name": "stdout",
     "output_type": "stream",
     "text": [
      "<class 'pandas.core.frame.DataFrame'>\n",
      "RangeIndex: 300 entries, 0 to 299\n",
      "Data columns (total 4 columns):\n",
      " #   Column        Non-Null Count  Dtype \n",
      "---  ------        --------------  ----- \n",
      " 0   Phillippines  300 non-null    object\n",
      " 1   Indonesia     300 non-null    object\n",
      " 2   Malta         300 non-null    object\n",
      " 3   India         300 non-null    object\n",
      "dtypes: object(4)\n",
      "memory usage: 9.5+ KB\n"
     ]
    }
   ],
   "source": [
    "customer_order_form.info()"
   ]
  },
  {
   "cell_type": "code",
   "execution_count": 91,
   "id": "361c207f",
   "metadata": {},
   "outputs": [
    {
     "name": "stdout",
     "output_type": "stream",
     "text": [
      "Error Free    271\n",
      "Defective      29\n",
      "Name: Phillippines, dtype: int64 \n",
      " Error Free    267\n",
      "Defective      33\n",
      "Name: Indonesia, dtype: int64 \n",
      " Error Free    269\n",
      "Defective      31\n",
      "Name: Malta, dtype: int64 \n",
      " Error Free    280\n",
      "Defective      20\n",
      "Name: India, dtype: int64 \n",
      "\n"
     ]
    }
   ],
   "source": [
    "print(customer_order_form['Phillippines'].value_counts(),\n",
    "      '\\n',\n",
    "     customer_order_form['Indonesia'].value_counts(),\n",
    "     '\\n',\n",
    "     customer_order_form['Malta'].value_counts(),\n",
    "      '\\n',\n",
    "      customer_order_form['India'].value_counts(),\n",
    "      '\\n')"
   ]
  },
  {
   "cell_type": "code",
   "execution_count": 12,
   "id": "42ae1247",
   "metadata": {},
   "outputs": [
    {
     "name": "stdout",
     "output_type": "stream",
     "text": [
      "[[271, 267, 269, 280], [29, 33, 31, 20]]\n"
     ]
    }
   ],
   "source": [
    "contingency_table =[[271,267,269,280], [29,33,31,20]]\n",
    "print(contingency_table)"
   ]
  },
  {
   "cell_type": "code",
   "execution_count": 13,
   "id": "82c0cf2c",
   "metadata": {},
   "outputs": [
    {
     "name": "stdout",
     "output_type": "stream",
     "text": [
      "chi2_stat_value: 3.858960685820355\n",
      "p_value: 0.2771020991233135\n",
      "degree of freedom: 3\n",
      "expected freq: [[271.75 271.75 271.75 271.75]\n",
      " [ 28.25  28.25  28.25  28.25]]\n"
     ]
    }
   ],
   "source": [
    "chi2_stat, p_value, df, expected = chi2_contingency(contingency_table)\n",
    "print(\"chi2_stat_value:\",chi2_stat)\n",
    "print(\"p_value:\",p_value )\n",
    "print(\"degree of freedom:\", df)\n",
    "print(\"expected freq:\", expected)"
   ]
  },
  {
   "cell_type": "code",
   "execution_count": 14,
   "id": "ebcd9e87",
   "metadata": {},
   "outputs": [],
   "source": [
    "observed =np.array([271, 267, 269, 280,29, 33, 31, 20])\n",
    "expected = np.array ([271.75, 271.75, 271.75, 271.75, 28.25 , 28.25 ,28.25 , 28.25])"
   ]
  },
  {
   "cell_type": "code",
   "execution_count": 18,
   "id": "6397d937",
   "metadata": {},
   "outputs": [
    {
     "name": "stdout",
     "output_type": "stream",
     "text": [
      "test_statistics: 3.858960685820355 \n",
      " p_value: 0.4254298144535761\n"
     ]
    }
   ],
   "source": [
    "test_statistics, p_value = stats.chisquare(observed,expected,ddof = df)\n",
    "print(\"test_statistics:\",test_statistics,\"\\n\",\"p_value:\",p_value)"
   ]
  },
  {
   "cell_type": "code",
   "execution_count": 19,
   "id": "9d6b3e32",
   "metadata": {},
   "outputs": [
    {
     "name": "stdout",
     "output_type": "stream",
     "text": [
      "accpet the null hypothesis as there is no significant difference in defective percentages among the four centers or.\n"
     ]
    }
   ],
   "source": [
    "alpha = 0.05\n",
    "if p_value > 0.05 :\n",
    "    print(\"accpet the null hypothesis as there is no significant difference in defective percentages among the four centers or.\")\n",
    "else:\n",
    "    print(\"reject null hyothesis , there is no significant difference\")"
   ]
  },
  {
   "cell_type": "code",
   "execution_count": null,
   "id": "7e685b01",
   "metadata": {},
   "outputs": [],
   "source": []
  }
 ],
 "metadata": {
  "kernelspec": {
   "display_name": "Python 3 (ipykernel)",
   "language": "python",
   "name": "python3"
  },
  "language_info": {
   "codemirror_mode": {
    "name": "ipython",
    "version": 3
   },
   "file_extension": ".py",
   "mimetype": "text/x-python",
   "name": "python",
   "nbconvert_exporter": "python",
   "pygments_lexer": "ipython3",
   "version": "3.10.9"
  }
 },
 "nbformat": 4,
 "nbformat_minor": 5
}
